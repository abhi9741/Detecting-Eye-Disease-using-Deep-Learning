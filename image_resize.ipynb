{
 "cells": [
  {
   "cell_type": "code",
   "execution_count": 5,
   "metadata": {},
   "outputs": [
    {
     "data": {
      "text/plain": [
       "'resize images from original sizes to standard 650 x 650\\n'"
      ]
     },
     "execution_count": 5,
     "metadata": {},
     "output_type": "execute_result"
    }
   ],
   "source": [
    "\"\"\"\\\n",
    "resize images from original sizes to standard 650 x 650\n",
    "\"\"\""
   ]
  },
  {
   "cell_type": "code",
   "execution_count": 6,
   "metadata": {},
   "outputs": [],
   "source": [
    "from PIL import Image\n",
    "import os, sys"
   ]
  },
  {
   "cell_type": "code",
   "execution_count": 7,
   "metadata": {},
   "outputs": [
    {
     "name": "stdout",
     "output_type": "stream",
     "text": [
      "Total number of images in the foler are 35126\n"
     ]
    }
   ],
   "source": [
    "source_path = \"Data/images/\"\n",
    "\n",
    "images_list = os.listdir(source_path)\n",
    "print(f\"Total number of images in the foler are {len(images_list)}\")"
   ]
  },
  {
   "cell_type": "code",
   "execution_count": 8,
   "metadata": {},
   "outputs": [],
   "source": [
    "def resize_images(resize_to_size,dest_path):\n",
    "    for image in images_list:\n",
    "        if os.path.isfile(source_path+image): #Checking if the image exists in the foler\n",
    "            img = Image.open(source_path+image)           \n",
    "            img_resize = img.resize(resize_to_size, Image.ANTIALIAS) #Antialias to prevent distortions when representing high definition images in low definition\n",
    "            img_resize.save(dest_path+image,quality=90)"
   ]
  },
  {
   "cell_type": "code",
   "execution_count": 9,
   "metadata": {},
   "outputs": [],
   "source": [
    "resize_to_size = (650,650)\n",
    "destination_path = \"Data/images_650/\"\n",
    "\n",
    "resize_images(resize_to_size,destination_path)"
   ]
  },
  {
   "cell_type": "code",
   "execution_count": 10,
   "metadata": {},
   "outputs": [
    {
     "name": "stdout",
     "output_type": "stream",
     "text": [
      "35126 of 35126 images from Data/images/ sucessfully resized and saved at Data/images_650/ \n"
     ]
    }
   ],
   "source": [
    "resized_images_list = os.listdir(destination_path)\n",
    "\n",
    "print(f\"{len(resized_images_list)} of {len(images_list)} images from {source_path} sucessfully resized and saved at {destination_path} \")"
   ]
  },
  {
   "cell_type": "code",
   "execution_count": null,
   "metadata": {},
   "outputs": [],
   "source": []
  }
 ],
 "metadata": {
  "kernelspec": {
   "display_name": "Python 3.8.13",
   "language": "python",
   "name": "python3"
  },
  "language_info": {
   "codemirror_mode": {
    "name": "ipython",
    "version": 3
   },
   "file_extension": ".py",
   "mimetype": "text/x-python",
   "name": "python",
   "nbconvert_exporter": "python",
   "pygments_lexer": "ipython3",
   "version": "3.8.13"
  },
  "orig_nbformat": 4,
  "vscode": {
   "interpreter": {
    "hash": "83bec4cd18966703d39e3fd8209371b7574445e5ac2dfe27a80cb33e9b531167"
   }
  }
 },
 "nbformat": 4,
 "nbformat_minor": 2
}
