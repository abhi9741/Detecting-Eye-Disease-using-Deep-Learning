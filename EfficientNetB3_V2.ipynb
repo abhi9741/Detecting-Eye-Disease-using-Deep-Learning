{
 "cells": [
  {
   "cell_type": "code",
   "execution_count": 1,
   "metadata": {},
   "outputs": [],
   "source": [
    "#Diabetic Retinopathy\n",
    "# Dataset - https://www.kaggle.com/competitions/diabetic-retinopathy-detection/data"
   ]
  },
  {
   "cell_type": "code",
   "execution_count": 2,
   "metadata": {},
   "outputs": [],
   "source": [
    "### remove the extra buffer before random crop to may be 7-8"
   ]
  },
  {
   "cell_type": "markdown",
   "metadata": {},
   "source": [
    "### Imports"
   ]
  },
  {
   "cell_type": "code",
   "execution_count": 3,
   "metadata": {},
   "outputs": [],
   "source": [
    "import pandas as pd \n",
    "from sklearn.model_selection import train_test_split as datasetSplit\n",
    "import numpy as np \n",
    "import os\n",
    "\n",
    "import torch\n",
    "import torch.nn as nn\n",
    "import torchvision \n",
    "from torch.utils.data import Dataset, DataLoader\n",
    "\n",
    "from PIL import Image\n",
    "import albumentations as A\n",
    "from albumentations.pytorch import ToTensorV2\n",
    "\n",
    "import matplotlib.pyplot as plt\n",
    "\n",
    "from sklearn.metrics import cohen_kappa_score\n",
    "from efficientnet_pytorch import EfficientNet\n",
    "from tqdm import tqdm\n",
    "\n",
    "from torch.optim import lr_scheduler\n"
   ]
  },
  {
   "cell_type": "markdown",
   "metadata": {},
   "source": [
    "### Hyperparameters"
   ]
  },
  {
   "cell_type": "code",
   "execution_count": 4,
   "metadata": {},
   "outputs": [],
   "source": [
    "# Dataset paths containing all the images and image labels\n",
    "dataset_images = \"Data/images_650_V2/\"\n",
    "dataset_labels = \"Data/trainLabels.csv\"\n",
    "\n",
    "BATCHSIZE = 64\n",
    "DEVICE = torch.device(\"cuda\" if torch.cuda.is_available() else \"cpu\")\n",
    "LEARNING_RATE = 0.0001\n",
    "WEIGHT_DECAY = 0.0005 #L2 Norm on the model weights\n",
    "NUM_EPOCHS = 100\n",
    "NUM_WORKERS = 0 \n",
    "CHECKPOINT_FOLDER = \"Checkpoints/\"\n",
    "CHECKPOINT_FILE = \"EfNetB3_v2.pth.tar\"\n",
    "PATIENCE = 3 #for early stopping\n",
    "\n",
    "PIN_MEMORY = True\n",
    "SAVE_MODEL = True\n",
    "LOAD_MODEL = True\n",
    "\n",
    "INPUT_IMAGE_WIDTH = 120\n",
    "INPUT_IMAGE_HEIGHT = 120\n",
    "\n",
    "from torch.utils.tensorboard import SummaryWriter\n",
    "writer = SummaryWriter(\"runs/EfNetB3_v2\")"
   ]
  },
  {
   "cell_type": "markdown",
   "metadata": {},
   "source": [
    "### Dataset"
   ]
  },
  {
   "cell_type": "code",
   "execution_count": 5,
   "metadata": {},
   "outputs": [
    {
     "name": "stdout",
     "output_type": "stream",
     "text": [
      "35126 images found in the dataset_images\n"
     ]
    }
   ],
   "source": [
    "print(f'{len(os.listdir(dataset_images))} images found in the dataset_images') "
   ]
  },
  {
   "cell_type": "markdown",
   "metadata": {},
   "source": [
    "#### Train Val Split"
   ]
  },
  {
   "cell_type": "code",
   "execution_count": 6,
   "metadata": {},
   "outputs": [
    {
     "name": "stdout",
     "output_type": "stream",
     "text": [
      "35126 images and 35126 targets found\n"
     ]
    }
   ],
   "source": [
    "inputs = np.array(pd.read_csv(dataset_labels)[\"image\"])\n",
    "targets = np.array(pd.read_csv(dataset_labels)[\"level\"])\n",
    "print(f\"{len(inputs)} images and {len(targets)} targets found\")"
   ]
  },
  {
   "cell_type": "code",
   "execution_count": 7,
   "metadata": {},
   "outputs": [],
   "source": [
    "train_inputs, val_inputs, train_labels, val_labels = datasetSplit(inputs,targets,test_size= 0.11,random_state=47,shuffle=True)"
   ]
  },
  {
   "cell_type": "code",
   "execution_count": 8,
   "metadata": {},
   "outputs": [
    {
     "name": "stdout",
     "output_type": "stream",
     "text": [
      "Dataset Train Size: 31262, Dataset Test Size:3864\n"
     ]
    }
   ],
   "source": [
    "print(f\"Dataset Train Size: {len(train_inputs)}, Dataset Test Size:{len(val_inputs)}\")"
   ]
  },
  {
   "cell_type": "markdown",
   "metadata": {},
   "source": [
    "#### Dataset Class"
   ]
  },
  {
   "cell_type": "code",
   "execution_count": 9,
   "metadata": {},
   "outputs": [],
   "source": [
    "class DiabeticRetinopathyDataset(Dataset):\n",
    "    def __init__(self,inputs,targets,data_transforms=None):\n",
    "        self.inputs = inputs\n",
    "        self.targets = torch.from_numpy(targets.astype(np.float32))\n",
    "        self.data_transforms = data_transforms\n",
    "        self.n_samples = len(inputs)\n",
    "        \n",
    "    def __getitem__(self,index):\n",
    "        img_path = self.inputs[index]\n",
    "        img = Image.open(dataset_images+img_path+\".jpeg\")\n",
    "        img = np.array(img) #Albumenations takes nd.array as input\n",
    "        # img = torch.from_numpy(img.astype(np.float32))\n",
    "        img_label = self.targets[index]\n",
    "        if self.data_transforms:\n",
    "            img = self.data_transforms(image=img)[\"image\"]\n",
    "            img.type(torch.float32)\n",
    "        return img, img_label, img_path\n",
    "        \n",
    "    def __len__(self):\n",
    "        return self.n_samples\n"
   ]
  },
  {
   "cell_type": "markdown",
   "metadata": {},
   "source": [
    "#### Data Transforms"
   ]
  },
  {
   "cell_type": "code",
   "execution_count": 10,
   "metadata": {},
   "outputs": [],
   "source": [
    "train_transforms = A.Compose([\n",
    "    A.Resize(width=INPUT_IMAGE_WIDTH+7,height=INPUT_IMAGE_HEIGHT+7),\n",
    "    A.RandomCrop(width=INPUT_IMAGE_WIDTH,height=INPUT_IMAGE_HEIGHT),\n",
    "    A.Normalize(mean=[0.3199, 0.2240, 0.1609],std=[0.3020, 0.2183, 0.1741],max_pixel_value = 255.0), \n",
    "    ToTensorV2()\n",
    "    ])\n",
    "\n",
    "#Test with more transformations\n",
    "\n",
    "val_transforms = A.Compose([\n",
    "    A.Resize(width=INPUT_IMAGE_WIDTH,height=INPUT_IMAGE_HEIGHT),\n",
    "    A.Normalize(mean=[0.3199, 0.2240, 0.1609],std=[0.3020, 0.2183, 0.1741],max_pixel_value = 255.0), \n",
    "    ToTensorV2()\n",
    "    ])"
   ]
  },
  {
   "cell_type": "markdown",
   "metadata": {},
   "source": [
    "#### Dataset Loader"
   ]
  },
  {
   "cell_type": "code",
   "execution_count": 11,
   "metadata": {},
   "outputs": [],
   "source": [
    "train_dataset = DiabeticRetinopathyDataset(train_inputs,train_labels,data_transforms=train_transforms)\n",
    "val_dataset = DiabeticRetinopathyDataset(val_inputs,val_labels,data_transforms=val_transforms)"
   ]
  },
  {
   "cell_type": "code",
   "execution_count": 12,
   "metadata": {},
   "outputs": [],
   "source": [
    "train_loader =DataLoader(train_dataset,batch_size=BATCHSIZE,shuffle=True,num_workers=NUM_WORKERS)\n",
    "val_loader =DataLoader(val_dataset,batch_size=BATCHSIZE,shuffle=False,num_workers=NUM_WORKERS)"
   ]
  },
  {
   "cell_type": "markdown",
   "metadata": {},
   "source": [
    "#### Having a look at first batch"
   ]
  },
  {
   "cell_type": "code",
   "execution_count": 13,
   "metadata": {},
   "outputs": [],
   "source": [
    "train_iter = iter(train_loader)\n",
    "first_batch = train_iter.next()\n",
    "batch_images, batch_labels, batch_files = first_batch"
   ]
  },
  {
   "cell_type": "code",
   "execution_count": 14,
   "metadata": {},
   "outputs": [
    {
     "data": {
      "text/plain": [
       "torch.Size([64, 3, 120, 120])"
      ]
     },
     "execution_count": 14,
     "metadata": {},
     "output_type": "execute_result"
    }
   ],
   "source": [
    "batch_images.shape"
   ]
  },
  {
   "cell_type": "code",
   "execution_count": 15,
   "metadata": {},
   "outputs": [
    {
     "data": {
      "text/plain": [
       "torch.Size([64])"
      ]
     },
     "execution_count": 15,
     "metadata": {},
     "output_type": "execute_result"
    }
   ],
   "source": [
    "batch_labels.shape"
   ]
  },
  {
   "cell_type": "markdown",
   "metadata": {},
   "source": [
    "##### Visualise Images"
   ]
  },
  {
   "cell_type": "code",
   "execution_count": 16,
   "metadata": {},
   "outputs": [
    {
     "name": "stderr",
     "output_type": "stream",
     "text": [
      "Clipping input data to the valid range for imshow with RGB data ([0..1] for floats or [0..255] for integers).\n"
     ]
    },
    {
     "data": {
      "text/plain": [
       "<matplotlib.image.AxesImage at 0x192bf2ed160>"
      ]
     },
     "execution_count": 16,
     "metadata": {},
     "output_type": "execute_result"
    },
    {
     "data": {
      "image/png": "[encoded data removed]",
      "text/plain": [
       "<Figure size 432x288 with 1 Axes>"
      ]
     },
     "metadata": {
      "needs_background": "light"
     },
     "output_type": "display_data"
    }
   ],
   "source": [
    "batch_images_grid = torchvision.utils.make_grid(batch_images,nrow=8)\n",
    "writer.add_image(\"Retina Images\",batch_images_grid)\n",
    "writer.close()\n",
    "\n",
    "plt.imshow(batch_images_grid.permute(1, 2, 0))"
   ]
  },
  {
   "cell_type": "markdown",
   "metadata": {},
   "source": [
    "### Utility Functions"
   ]
  },
  {
   "cell_type": "code",
   "execution_count": 17,
   "metadata": {},
   "outputs": [],
   "source": [
    "def make_prediction(model,dataloader,output_csv=\"submission.csv\"):\n",
    "    all_preds = []\n",
    "    file_names = []\n",
    "    # total_loss = 0.0\n",
    "    model.eval() #set the model to evaluation state\n",
    "\n",
    "    for inputs, labels, names in enumerate(dataloader):\n",
    "        inputs = inputs.to(DEVICE)\n",
    "        with torch.no_grad():\n",
    "            outs = model(inputs)\n",
    "            _, batch_preds = torch.max(outs,1)\n",
    "            all_preds.append(batch_preds.cpu().numpy())\n",
    "            # batch_loss = nn.CrossEntropyLoss(outs,labels)\n",
    "            # total_loss += batch_loss\n",
    "            # batch_kappa = \n",
    "            file_names.append(names)\n",
    "\n",
    "    # epoch_loss = total_loss/len(dataloader)\n",
    "    df = pd.DataFrame({\"image\":file_names,\"level\":np.concatenate(all_preds, axis=0)})\n",
    "    df.to_csv(output_csv,index=False)\n",
    "    model.train() #Set the model back to training phase\n",
    "\n",
    "def calculate_accuracy(model,dataloader,epoch_num):\n",
    "    model.eval()\n",
    "    total_loss = 0.0\n",
    "    all_preds, all_labels = [],[]\n",
    "    correct_predictions = 0\n",
    "    num_samples = 0\n",
    "    dataiter = tqdm(dataloader)\n",
    "    for batchID, (inputs, labels, names) in enumerate(dataiter):\n",
    "        inputs = inputs.to(DEVICE)\n",
    "        labels = labels.type(torch.LongTensor)\n",
    "        labels = labels.to(DEVICE)\n",
    "\n",
    "        with torch.no_grad():\n",
    "            outs = model(inputs)\n",
    "            _, batch_preds = torch.max(outs,1)\n",
    "            batch_loss = loss_func(outs,labels)\n",
    "            correct_predictions += (batch_preds==labels).sum().item()\n",
    "            num_samples += outs.shape[0]\n",
    "\n",
    "            all_preds.append(batch_preds.cpu().numpy())\n",
    "            all_labels.append(labels.cpu().numpy())\n",
    "            total_loss += batch_loss.item()\n",
    "        dataiter.set_postfix(loss=batch_loss.item())\n",
    "            \n",
    "            \n",
    "\n",
    "    model.train()\n",
    "    epoch_acc = 100.0*correct_predictions/num_samples\n",
    "    epoch_loss = total_loss/len(dataloader)\n",
    "    # print(f\"Epoch Accuracy: {accuracy:.2f}%. Predicted {correct_predictions} correcctly out of {num_samples} images!\")\n",
    "    all_preds = np.concatenate(all_preds,axis=0,dtype=np.int64)\n",
    "    all_labels = np.concatenate(all_labels,axis=0,dtype=np.int64)\n",
    "    kappa = cohen_kappa_score(all_labels,all_preds,weights='quadratic')\n",
    "    print(f\"Epoch (Val): {epoch_num}, Loss= {epoch_loss}, Accuracy= {epoch_acc}, Kappa= {kappa}\")\n",
    "    writer.add_scalar('val_loss',epoch_loss,global_step=epoch_num)\n",
    "    writer.add_scalar('val_acc',epoch_acc,global_step=epoch_num)\n",
    "    writer.add_scalar('val_kappa',kappa,global_step=epoch_num)\n",
    "    writer.close()\n",
    "    return epoch_acc, kappa \n",
    "\n",
    "            \n",
    "def save_checkpoint(state_dicts):\n",
    "    torch.save(state_dicts,CHECKPOINT_FOLDER+CHECKPOINT_FILE)\n",
    "\n",
    "def load_checkpoint(checkpoint_file,model,optimiser,learning_rate):\n",
    "    checkpoint = torch.load(checkpoint_file)\n",
    "    model.load_state_dict(checkpoint[\"state_dict\"])\n",
    "    optimiser.load_state_dict(checkpoint[\"optimiser\"])\n",
    "\n",
    "    for params in optimiser.param_groups:\n",
    "        params[\"lr\"] = learning_rate\n",
    "    \n"
   ]
  },
  {
   "cell_type": "markdown",
   "metadata": {},
   "source": [
    "### PreProcess\n"
   ]
  },
  {
   "cell_type": "markdown",
   "metadata": {},
   "source": [
    "### Design the Model"
   ]
  },
  {
   "cell_type": "markdown",
   "metadata": {},
   "source": [
    "#### Model"
   ]
  },
  {
   "cell_type": "code",
   "execution_count": 18,
   "metadata": {},
   "outputs": [
    {
     "name": "stdout",
     "output_type": "stream",
     "text": [
      "Loaded pretrained weights for efficientnet-b3\n"
     ]
    }
   ],
   "source": [
    "model = EfficientNet.from_pretrained(\"efficientnet-b3\")\n",
    "in_features = model._fc.in_features\n",
    "model._fc = nn.Linear(in_features,5) #\n",
    "model = model.to(DEVICE)"
   ]
  },
  {
   "cell_type": "markdown",
   "metadata": {},
   "source": [
    "#### Loss Function, Optmiser"
   ]
  },
  {
   "cell_type": "code",
   "execution_count": 19,
   "metadata": {},
   "outputs": [],
   "source": [
    "loss_func = nn.CrossEntropyLoss()\n",
    "optimiser = torch.optim.Adam(model.parameters(),lr=LEARNING_RATE,weight_decay=WEIGHT_DECAY)\n",
    "scaler = torch.cuda.amp.GradScaler()\n",
    "lr_scheduler1 = lr_scheduler.StepLR(optimiser,step_size=7,gamma=0.1)"
   ]
  },
  {
   "cell_type": "markdown",
   "metadata": {},
   "source": [
    "### Training"
   ]
  },
  {
   "cell_type": "code",
   "execution_count": 20,
   "metadata": {},
   "outputs": [],
   "source": [
    "def train_epoch(model,dataloader,optimiser,scheduler,loss_func,scaler,epoch_num):\n",
    "    total_loss = 0.0\n",
    "    dataiter = tqdm(dataloader)\n",
    "    correct_predictions = 0\n",
    "    num_samples = 0\n",
    "    all_preds, all_labels = [],[]\n",
    "    for batch_num,(inputs,labels,filenames) in enumerate(dataiter):\n",
    "        inputs = inputs.to(DEVICE)\n",
    "        labels = labels.type(torch.LongTensor)\n",
    "        labels = labels.to(DEVICE)\n",
    "\n",
    "        if batch_num%40 == 0 and epoch_num%10==0 : #visualising few batch images (after transforms) \n",
    "            writer.add_image(\"Batch_\"+str(batch_num),torchvision.utils.make_grid(inputs,nrow=8))\n",
    "            writer.close()\n",
    "\n",
    "        #forward pass\n",
    "        with torch.cuda.amp.autocast():\n",
    "            outs = model(inputs)\n",
    "            _, batch_preds = torch.max(outs,1)\n",
    "            # print(outs.shape,labels.shape) \n",
    "            batch_loss = loss_func(outs,labels)\n",
    "\n",
    "        \n",
    "        total_loss += batch_loss.item()\n",
    "        correct_predictions += (batch_preds==labels).sum().item()\n",
    "        num_samples += outs.shape[0]\n",
    "        all_preds.append(batch_preds.cpu().numpy())\n",
    "        all_labels.append(labels.cpu().numpy())\n",
    "\n",
    "        #backward step\n",
    "        optimiser.zero_grad()\n",
    "        scaler.scale(batch_loss).backward()\n",
    "        scaler.step(optimiser)\n",
    "        # optimiser.step()\n",
    "        scaler.update()\n",
    "        dataiter.set_postfix(loss=batch_loss.item())\n",
    "\n",
    "    epoch_loss = total_loss/len(dataloader)\n",
    "    epoch_acc = 100.0*correct_predictions/num_samples\n",
    "    all_preds = np.concatenate(all_preds,axis=0,dtype=np.int64)\n",
    "    all_labels = np.concatenate(all_labels,axis=0,dtype=np.int64)\n",
    "    scheduler.step()\n",
    "\n",
    "    kappa = cohen_kappa_score(all_labels,all_preds,weights='quadratic')\n",
    "    print(f\"Epoch (Train): {epoch_num}, Loss= {epoch_loss}, Accuracy= {epoch_acc}, Kappa= {kappa}\")\n",
    "    writer.add_scalar('training_loss',epoch_loss,global_step=epoch_num)\n",
    "    writer.add_scalar('training_acc',epoch_acc,global_step=epoch_num)\n",
    "    writer.add_scalar('training_kappa',kappa,global_step=epoch_num)\n",
    "    writer.close()\n",
    "    "
   ]
  },
  {
   "cell_type": "code",
   "execution_count": 21,
   "metadata": {},
   "outputs": [],
   "source": [
    "# Check if it is working for one epoch\n",
    "# train_epoch(model,train_loader,optimiser,loss_func,scaler,0)"
   ]
  },
  {
   "cell_type": "code",
   "execution_count": 22,
   "metadata": {},
   "outputs": [],
   "source": [
    "def trainModel(model,trainloader,valloader,optimiser,lr_scheduler1,loss_func,epochs):\n",
    "    \n",
    "    checkpoint_stuff = {\"state_dict\":model.state_dict() ,\"optimiser\":optimiser.state_dict()}\n",
    "    best_kappa = 0.0\n",
    "    best_epoch = 0\n",
    "    es = 0 #early stopper\n",
    "\n",
    "    for epoch in range(epochs):\n",
    "\n",
    "        #Train Phase\n",
    "        model.train()\n",
    "        \n",
    "        train_epoch(model,train_loader,optimiser,lr_scheduler1,loss_func,scaler,epoch)\n",
    "        \n",
    "        #Validation Phase\n",
    "        model.eval()\n",
    "        epoch_acc, kappa  = calculate_accuracy(model,val_loader,epoch)\n",
    "        \n",
    "        #Early stopping and checkpoints\n",
    "        if (kappa > best_kappa) :\n",
    "            best_kappa = kappa\n",
    "            es = 0 \n",
    "            checkpoint_stuff = {\"state_dict\":model.state_dict() ,\"optimiser\":optimiser.state_dict()}\n",
    "            best_epoch = epoch\n",
    "            print(f\"Checkpoint Saved at {best_epoch}\")\n",
    "        else :\n",
    "            es += 1\n",
    "            print(f\"Model performance has not improved in this epoch. Patience: {es}/{PATIENCE}\")\n",
    "            if es>PATIENCE:\n",
    "                print(f\"Early Stopping with {best_kappa} at Epoch {best_epoch}\")\n",
    "                break\n",
    "\n",
    "\n",
    "    model.load_state_dict(checkpoint_stuff[\"state_dict\"]) #load the best model\n",
    "    if SAVE_MODEL:\n",
    "        save_checkpoint(checkpoint_stuff)\n",
    "        # print(\"Checkpoint - Model Saved at {best_epoch}\")\n",
    "    return model #return the trained model\n",
    "    \n",
    "    \n",
    "\n",
    "\n"
   ]
  },
  {
   "cell_type": "code",
   "execution_count": 23,
   "metadata": {},
   "outputs": [
    {
     "name": "stderr",
     "output_type": "stream",
     "text": [
      "100%|██████████| 489/489 [06:38<00:00,  1.23it/s, loss=0.582]\n"
     ]
    },
    {
     "name": "stdout",
     "output_type": "stream",
     "text": [
      "Epoch (Train): 0, Loss= 0.8561844783082818, Accuracy= 72.44897959183673, Kappa= 0.15535883356020974\n"
     ]
    },
    {
     "name": "stderr",
     "output_type": "stream",
     "text": [
      "100%|██████████| 61/61 [00:38<00:00,  1.61it/s, loss=0.902]\n"
     ]
    },
    {
     "name": "stdout",
     "output_type": "stream",
     "text": [
      "Epoch (Val): 0, Loss= 0.78464653843739, Accuracy= 73.47308488612836, Kappa= 0.40839396022446917\n",
      "Checkpoint Saved at 0\n"
     ]
    },
    {
     "name": "stderr",
     "output_type": "stream",
     "text": [
      "100%|██████████| 489/489 [04:19<00:00,  1.89it/s, loss=0.627]\n"
     ]
    },
    {
     "name": "stdout",
     "output_type": "stream",
     "text": [
      "Epoch (Train): 1, Loss= 0.7006072072895027, Accuracy= 76.1307657859382, Kappa= 0.45787964010649473\n"
     ]
    },
    {
     "name": "stderr",
     "output_type": "stream",
     "text": [
      "100%|██████████| 61/61 [00:24<00:00,  2.44it/s, loss=0.954]\n"
     ]
    },
    {
     "name": "stdout",
     "output_type": "stream",
     "text": [
      "Epoch (Val): 1, Loss= 0.7604496596289463, Accuracy= 73.55072463768116, Kappa= 0.5204851680115562\n",
      "Checkpoint Saved at 1\n"
     ]
    },
    {
     "name": "stderr",
     "output_type": "stream",
     "text": [
      "100%|██████████| 489/489 [04:17<00:00,  1.90it/s, loss=0.538]\n"
     ]
    },
    {
     "name": "stdout",
     "output_type": "stream",
     "text": [
      "Epoch (Train): 2, Loss= 0.6396500117208329, Accuracy= 77.7493442518073, Kappa= 0.5645258801805385\n"
     ]
    },
    {
     "name": "stderr",
     "output_type": "stream",
     "text": [
      "100%|██████████| 61/61 [00:25<00:00,  2.43it/s, loss=0.989]\n"
     ]
    },
    {
     "name": "stdout",
     "output_type": "stream",
     "text": [
      "Epoch (Val): 2, Loss= 0.7137230414836133, Accuracy= 75.85403726708074, Kappa= 0.5471724282723889\n",
      "Checkpoint Saved at 2\n"
     ]
    },
    {
     "name": "stderr",
     "output_type": "stream",
     "text": [
      "100%|██████████| 489/489 [04:16<00:00,  1.91it/s, loss=0.65] \n"
     ]
    },
    {
     "name": "stdout",
     "output_type": "stream",
     "text": [
      "Epoch (Train): 3, Loss= 0.5794965001946821, Accuracy= 79.58543919135052, Kappa= 0.636259682439346\n"
     ]
    },
    {
     "name": "stderr",
     "output_type": "stream",
     "text": [
      "100%|██████████| 61/61 [00:25<00:00,  2.42it/s, loss=1.19] \n"
     ]
    },
    {
     "name": "stdout",
     "output_type": "stream",
     "text": [
      "Epoch (Val): 3, Loss= 0.8022914616788019, Accuracy= 71.79089026915113, Kappa= 0.5260852160735114\n",
      "Model performance has not improved in this epoch. Patience: 1/3\n"
     ]
    },
    {
     "name": "stderr",
     "output_type": "stream",
     "text": [
      "100%|██████████| 489/489 [04:16<00:00,  1.90it/s, loss=0.494]\n"
     ]
    },
    {
     "name": "stdout",
     "output_type": "stream",
     "text": [
      "Epoch (Train): 4, Loss= 0.5221777364520207, Accuracy= 81.26799309065319, Kappa= 0.6893268628998532\n"
     ]
    },
    {
     "name": "stderr",
     "output_type": "stream",
     "text": [
      "100%|██████████| 61/61 [00:25<00:00,  2.42it/s, loss=1.26] \n"
     ]
    },
    {
     "name": "stdout",
     "output_type": "stream",
     "text": [
      "Epoch (Val): 4, Loss= 0.7405395986603909, Accuracy= 74.68944099378882, Kappa= 0.5654992912202045\n",
      "Checkpoint Saved at 4\n"
     ]
    },
    {
     "name": "stderr",
     "output_type": "stream",
     "text": [
      "100%|██████████| 489/489 [04:16<00:00,  1.90it/s, loss=0.371]\n"
     ]
    },
    {
     "name": "stdout",
     "output_type": "stream",
     "text": [
      "Epoch (Train): 5, Loss= 0.4540888831659329, Accuracy= 83.25762907043695, Kappa= 0.7385637718037765\n"
     ]
    },
    {
     "name": "stderr",
     "output_type": "stream",
     "text": [
      "100%|██████████| 61/61 [00:25<00:00,  2.43it/s, loss=1.22] \n"
     ]
    },
    {
     "name": "stdout",
     "output_type": "stream",
     "text": [
      "Epoch (Val): 5, Loss= 0.7761746473976823, Accuracy= 73.91304347826087, Kappa= 0.5636512146943964\n",
      "Model performance has not improved in this epoch. Patience: 1/3\n"
     ]
    },
    {
     "name": "stderr",
     "output_type": "stream",
     "text": [
      "100%|██████████| 489/489 [04:16<00:00,  1.90it/s, loss=0.521]\n"
     ]
    },
    {
     "name": "stdout",
     "output_type": "stream",
     "text": [
      "Epoch (Train): 6, Loss= 0.38091999350271827, Accuracy= 86.18450515002239, Kappa= 0.7951220655708024\n"
     ]
    },
    {
     "name": "stderr",
     "output_type": "stream",
     "text": [
      "100%|██████████| 61/61 [00:25<00:00,  2.43it/s, loss=1.5]  \n"
     ]
    },
    {
     "name": "stdout",
     "output_type": "stream",
     "text": [
      "Epoch (Val): 6, Loss= 0.8292993077489196, Accuracy= 73.11076604554866, Kappa= 0.5618725479632194\n",
      "Model performance has not improved in this epoch. Patience: 2/3\n"
     ]
    },
    {
     "name": "stderr",
     "output_type": "stream",
     "text": [
      "100%|██████████| 489/489 [04:16<00:00,  1.91it/s, loss=0.458]\n"
     ]
    },
    {
     "name": "stdout",
     "output_type": "stream",
     "text": [
      "Epoch (Train): 7, Loss= 0.26117321041342184, Accuracy= 90.73635723882029, Kappa= 0.8693535600450633\n"
     ]
    },
    {
     "name": "stderr",
     "output_type": "stream",
     "text": [
      "100%|██████████| 61/61 [00:24<00:00,  2.45it/s, loss=1.72] \n"
     ]
    },
    {
     "name": "stdout",
     "output_type": "stream",
     "text": [
      "Epoch (Val): 7, Loss= 0.8740491314989621, Accuracy= 74.79296066252589, Kappa= 0.5746525733897575\n",
      "Checkpoint Saved at 7\n"
     ]
    },
    {
     "name": "stderr",
     "output_type": "stream",
     "text": [
      "100%|██████████| 489/489 [04:17<00:00,  1.90it/s, loss=0.147] \n"
     ]
    },
    {
     "name": "stdout",
     "output_type": "stream",
     "text": [
      "Epoch (Train): 8, Loss= 0.22310322881171551, Accuracy= 92.23658115283732, Kappa= 0.8925521394482945\n"
     ]
    },
    {
     "name": "stderr",
     "output_type": "stream",
     "text": [
      "100%|██████████| 61/61 [00:25<00:00,  2.43it/s, loss=1.79] \n"
     ]
    },
    {
     "name": "stdout",
     "output_type": "stream",
     "text": [
      "Epoch (Val): 8, Loss= 0.9080893319161212, Accuracy= 73.86128364389234, Kappa= 0.5742191219373274\n",
      "Model performance has not improved in this epoch. Patience: 1/3\n"
     ]
    },
    {
     "name": "stderr",
     "output_type": "stream",
     "text": [
      "100%|██████████| 489/489 [04:16<00:00,  1.91it/s, loss=0.117] \n"
     ]
    },
    {
     "name": "stdout",
     "output_type": "stream",
     "text": [
      "Epoch (Train): 9, Loss= 0.19919776639202133, Accuracy= 93.09385196084703, Kappa= 0.9044648209149839\n"
     ]
    },
    {
     "name": "stderr",
     "output_type": "stream",
     "text": [
      "100%|██████████| 61/61 [00:25<00:00,  2.44it/s, loss=1.9]  \n"
     ]
    },
    {
     "name": "stdout",
     "output_type": "stream",
     "text": [
      "Epoch (Val): 9, Loss= 0.9500480025518135, Accuracy= 74.01656314699792, Kappa= 0.5767145653104634\n",
      "Checkpoint Saved at 9\n"
     ]
    },
    {
     "name": "stderr",
     "output_type": "stream",
     "text": [
      "100%|██████████| 489/489 [04:32<00:00,  1.80it/s, loss=0.111] \n"
     ]
    },
    {
     "name": "stdout",
     "output_type": "stream",
     "text": [
      "Epoch (Train): 10, Loss= 0.18170901934915282, Accuracy= 93.77199155524279, Kappa= 0.9119030599092852\n"
     ]
    },
    {
     "name": "stderr",
     "output_type": "stream",
     "text": [
      "100%|██████████| 61/61 [00:26<00:00,  2.32it/s, loss=2.05] \n"
     ]
    },
    {
     "name": "stdout",
     "output_type": "stream",
     "text": [
      "Epoch (Val): 10, Loss= 0.972802610670934, Accuracy= 73.70600414078675, Kappa= 0.5740933414971517\n",
      "Model performance has not improved in this epoch. Patience: 1/3\n"
     ]
    },
    {
     "name": "stderr",
     "output_type": "stream",
     "text": [
      "100%|██████████| 489/489 [04:28<00:00,  1.82it/s, loss=0.327] \n"
     ]
    },
    {
     "name": "stdout",
     "output_type": "stream",
     "text": [
      "Epoch (Train): 11, Loss= 0.163509577086123, Accuracy= 94.3829569445333, Kappa= 0.920353208029944\n"
     ]
    },
    {
     "name": "stderr",
     "output_type": "stream",
     "text": [
      "100%|██████████| 61/61 [00:26<00:00,  2.32it/s, loss=2.1]  \n"
     ]
    },
    {
     "name": "stdout",
     "output_type": "stream",
     "text": [
      "Epoch (Val): 11, Loss= 1.021030818829771, Accuracy= 73.39544513457557, Kappa= 0.5701751120944134\n",
      "Model performance has not improved in this epoch. Patience: 2/3\n"
     ]
    },
    {
     "name": "stderr",
     "output_type": "stream",
     "text": [
      "100%|██████████| 489/489 [04:28<00:00,  1.82it/s, loss=0.107] \n"
     ]
    },
    {
     "name": "stdout",
     "output_type": "stream",
     "text": [
      "Epoch (Train): 12, Loss= 0.1511135725247348, Accuracy= 94.75721323011963, Kappa= 0.9278903138119143\n"
     ]
    },
    {
     "name": "stderr",
     "output_type": "stream",
     "text": [
      "100%|██████████| 61/61 [00:26<00:00,  2.28it/s, loss=2.1]  \n"
     ]
    },
    {
     "name": "stdout",
     "output_type": "stream",
     "text": [
      "Epoch (Val): 12, Loss= 1.0300267431579653, Accuracy= 73.11076604554866, Kappa= 0.5668941796447677\n",
      "Model performance has not improved in this epoch. Patience: 3/3\n"
     ]
    },
    {
     "name": "stderr",
     "output_type": "stream",
     "text": [
      "100%|██████████| 489/489 [04:28<00:00,  1.82it/s, loss=0.0544]\n"
     ]
    },
    {
     "name": "stdout",
     "output_type": "stream",
     "text": [
      "Epoch (Train): 13, Loss= 0.13997789498243352, Accuracy= 95.29460687096154, Kappa= 0.935526797136938\n"
     ]
    },
    {
     "name": "stderr",
     "output_type": "stream",
     "text": [
      "100%|██████████| 61/61 [00:26<00:00,  2.30it/s, loss=2.25] \n"
     ]
    },
    {
     "name": "stdout",
     "output_type": "stream",
     "text": [
      "Epoch (Val): 13, Loss= 1.0612294805831597, Accuracy= 72.98136645962732, Kappa= 0.5640297300034622\n",
      "Model performance has not improved in this epoch. Patience: 4/3\n",
      "Early Stopping with 0.5767145653104634 at Epoch 9\n"
     ]
    },
    {
     "ename": "",
     "evalue": "",
     "output_type": "error",
     "traceback": [
      "\u001b[1;31mThe Kernel crashed while executing code in the the current cell or a previous cell. Please review the code in the cell(s) to identify a possible cause of the failure. Click <a href='https://aka.ms/vscodeJupyterKernelCrash'>here</a> for more info. View Jupyter <a href='command:jupyter.viewOutput'>log</a> for further details."
     ]
    }
   ],
   "source": [
    "trainedModel = trainModel(model,train_loader,val_loader,optimiser,lr_scheduler1,loss_func,40)"
   ]
  }
 ],
 "metadata": {
  "kernelspec": {
   "display_name": "Python 3.8.13",
   "language": "python",
   "name": "python3"
  },
  "language_info": {
   "codemirror_mode": {
    "name": "ipython",
    "version": 3
   },
   "file_extension": ".py",
   "mimetype": "text/x-python",
   "name": "python",
   "nbconvert_exporter": "python",
   "pygments_lexer": "ipython3",
   "version": "3.8.13"
  },
  "orig_nbformat": 4,
  "vscode": {
   "interpreter": {
    "hash": "83bec4cd18966703d39e3fd8209371b7574445e5ac2dfe27a80cb33e9b531167"
   }
  }
 },
 "nbformat": 4,
 "nbformat_minor": 2
}
