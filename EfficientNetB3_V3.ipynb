{
 "cells": [
  {
   "cell_type": "code",
   "execution_count": 1,
   "metadata": {},
   "outputs": [
    {
     "data": {
      "text/plain": [
       "'\\nImproving loss function, using a loss function that is quadratic - so correlates well with cohens kappa\\n'"
      ]
     },
     "execution_count": 1,
     "metadata": {},
     "output_type": "execute_result"
    }
   ],
   "source": [
    "#Diabetic Retinopathy\n",
    "# Dataset - https://www.kaggle.com/competitions/diabetic-retinopathy-detection/data\n",
    "\n",
    "\"\"\"\n",
    "Improving loss function, using a loss function that is quadratic - so correlates well with cohens kappa\n",
    "\"\"\""
   ]
  },
  {
   "cell_type": "markdown",
   "metadata": {},
   "source": [
    "### Imports"
   ]
  },
  {
   "cell_type": "code",
   "execution_count": 2,
   "metadata": {},
   "outputs": [],
   "source": [
    "import pandas as pd \n",
    "from sklearn.model_selection import train_test_split as datasetSplit\n",
    "import numpy as np \n",
    "import os\n",
    "\n",
    "import torch\n",
    "import torch.nn as nn\n",
    "import torchvision \n",
    "from torch.utils.data import Dataset, DataLoader\n",
    "\n",
    "from PIL import Image\n",
    "import albumentations as A\n",
    "from albumentations.pytorch import ToTensorV2\n",
    "\n",
    "import matplotlib.pyplot as plt\n",
    "\n",
    "from sklearn.metrics import cohen_kappa_score\n",
    "from efficientnet_pytorch import EfficientNet\n",
    "from tqdm import tqdm\n",
    "\n",
    "from torch.optim import lr_scheduler\n"
   ]
  },
  {
   "cell_type": "code",
   "execution_count": null,
   "metadata": {},
   "outputs": [],
   "source": []
  },
  {
   "cell_type": "markdown",
   "metadata": {},
   "source": [
    "### Hyperparameters"
   ]
  },
  {
   "cell_type": "code",
   "execution_count": 3,
   "metadata": {},
   "outputs": [],
   "source": [
    "# Dataset paths containing all the images and image labels\n",
    "dataset_images = \"Data/images_650_V2/\"\n",
    "dataset_labels = \"Data/trainLabels.csv\"\n",
    "\n",
    "BATCHSIZE = 64\n",
    "DEVICE = torch.device(\"cuda\" if torch.cuda.is_available() else \"cpu\")\n",
    "LEARNING_RATE = 0.0001\n",
    "WEIGHT_DECAY = 0.0005 #L2 Norm on the model weights\n",
    "NUM_EPOCHS = 100\n",
    "NUM_WORKERS = 0 \n",
    "CHECKPOINT_FOLDER = \"Checkpoints/\"\n",
    "CHECKPOINT_FILE = \"EfNetB3_v3.pth.tar\" #Experiment 3 \n",
    "PATIENCE = 4 #for early stopping\n",
    "\n",
    "PIN_MEMORY = True\n",
    "SAVE_MODEL = True\n",
    "LOAD_MODEL = True\n",
    "\n",
    "INPUT_IMAGE_WIDTH = 120\n",
    "INPUT_IMAGE_HEIGHT = 120\n",
    "\n",
    "from torch.utils.tensorboard import SummaryWriter\n",
    "writer = SummaryWriter(\"runs/EfNetB3_v3\")"
   ]
  },
  {
   "cell_type": "markdown",
   "metadata": {},
   "source": [
    "### Dataset"
   ]
  },
  {
   "cell_type": "code",
   "execution_count": 4,
   "metadata": {},
   "outputs": [
    {
     "name": "stdout",
     "output_type": "stream",
     "text": [
      "35126 images found in the dataset_images\n"
     ]
    }
   ],
   "source": [
    "print(f'{len(os.listdir(dataset_images))} images found in the dataset_images') "
   ]
  },
  {
   "cell_type": "markdown",
   "metadata": {},
   "source": [
    "#### Train Val Split"
   ]
  },
  {
   "cell_type": "code",
   "execution_count": 5,
   "metadata": {},
   "outputs": [
    {
     "name": "stdout",
     "output_type": "stream",
     "text": [
      "35126 images and 35126 targets found\n"
     ]
    }
   ],
   "source": [
    "inputs = np.array(pd.read_csv(dataset_labels)[\"image\"])\n",
    "targets = np.array(pd.read_csv(dataset_labels)[\"level\"])\n",
    "print(f\"{len(inputs)} images and {len(targets)} targets found\")"
   ]
  },
  {
   "cell_type": "code",
   "execution_count": 6,
   "metadata": {},
   "outputs": [],
   "source": [
    "train_inputs, val_inputs, train_labels, val_labels = datasetSplit(inputs,targets,test_size= 0.11,random_state=47,shuffle=True)"
   ]
  },
  {
   "cell_type": "code",
   "execution_count": 7,
   "metadata": {},
   "outputs": [
    {
     "name": "stdout",
     "output_type": "stream",
     "text": [
      "Dataset Train Size: 31262, Dataset Test Size:3864\n"
     ]
    }
   ],
   "source": [
    "print(f\"Dataset Train Size: {len(train_inputs)}, Dataset Test Size:{len(val_inputs)}\")"
   ]
  },
  {
   "cell_type": "markdown",
   "metadata": {},
   "source": [
    "#### Dataset Class"
   ]
  },
  {
   "cell_type": "code",
   "execution_count": 8,
   "metadata": {},
   "outputs": [],
   "source": [
    "class DiabeticRetinopathyDataset(Dataset):\n",
    "    def __init__(self,inputs,targets,data_transforms=None):\n",
    "        self.inputs = inputs\n",
    "        self.targets = torch.from_numpy(targets.astype(np.float32))\n",
    "        self.data_transforms = data_transforms\n",
    "        self.n_samples = len(inputs)\n",
    "        \n",
    "    def __getitem__(self,index):\n",
    "        img_path = self.inputs[index]\n",
    "        img = Image.open(dataset_images+img_path+\".jpeg\")\n",
    "        img = np.array(img) #Albumenations takes nd.array as input\n",
    "        # img = torch.from_numpy(img.astype(np.float32))\n",
    "        img_label = self.targets[index]\n",
    "        if self.data_transforms:\n",
    "            img = self.data_transforms(image=img)[\"image\"]\n",
    "            img.type(torch.float32)\n",
    "        return img, img_label, img_path\n",
    "        \n",
    "    def __len__(self):\n",
    "        return self.n_samples\n"
   ]
  },
  {
   "cell_type": "markdown",
   "metadata": {},
   "source": [
    "#### Data Transforms"
   ]
  },
  {
   "cell_type": "code",
   "execution_count": 9,
   "metadata": {},
   "outputs": [],
   "source": [
    "train_transforms = A.Compose([\n",
    "    A.Resize(width=INPUT_IMAGE_WIDTH+7,height=INPUT_IMAGE_HEIGHT+7),\n",
    "    A.RandomCrop(width=INPUT_IMAGE_WIDTH,height=INPUT_IMAGE_HEIGHT),\n",
    "    A.Normalize(mean=[0.3199, 0.2240, 0.1609],std=[0.3020, 0.2183, 0.1741],max_pixel_value = 255.0), \n",
    "    ToTensorV2()\n",
    "    ])\n",
    "\n",
    "#Test with more transformations\n",
    "\n",
    "val_transforms = A.Compose([\n",
    "    A.Resize(width=INPUT_IMAGE_WIDTH,height=INPUT_IMAGE_HEIGHT),\n",
    "    A.Normalize(mean=[0.3199, 0.2240, 0.1609],std=[0.3020, 0.2183, 0.1741],max_pixel_value = 255.0), \n",
    "    ToTensorV2()\n",
    "    ])"
   ]
  },
  {
   "cell_type": "markdown",
   "metadata": {},
   "source": [
    "#### Dataset Loader"
   ]
  },
  {
   "cell_type": "code",
   "execution_count": 10,
   "metadata": {},
   "outputs": [],
   "source": [
    "train_dataset = DiabeticRetinopathyDataset(train_inputs,train_labels,data_transforms=train_transforms)\n",
    "val_dataset = DiabeticRetinopathyDataset(val_inputs,val_labels,data_transforms=val_transforms)"
   ]
  },
  {
   "cell_type": "code",
   "execution_count": 11,
   "metadata": {},
   "outputs": [],
   "source": [
    "train_loader =DataLoader(train_dataset,batch_size=BATCHSIZE,shuffle=True,num_workers=NUM_WORKERS)\n",
    "val_loader =DataLoader(val_dataset,batch_size=BATCHSIZE,shuffle=False,num_workers=NUM_WORKERS)"
   ]
  },
  {
   "cell_type": "markdown",
   "metadata": {},
   "source": [
    "#### Having a look at first batch"
   ]
  },
  {
   "cell_type": "code",
   "execution_count": 12,
   "metadata": {},
   "outputs": [],
   "source": [
    "train_iter = iter(train_loader)\n",
    "first_batch = train_iter.next()\n",
    "batch_images, batch_labels, batch_files = first_batch"
   ]
  },
  {
   "cell_type": "code",
   "execution_count": 13,
   "metadata": {},
   "outputs": [
    {
     "data": {
      "text/plain": [
       "torch.Size([64, 3, 120, 120])"
      ]
     },
     "execution_count": 13,
     "metadata": {},
     "output_type": "execute_result"
    }
   ],
   "source": [
    "batch_images.shape"
   ]
  },
  {
   "cell_type": "code",
   "execution_count": 14,
   "metadata": {},
   "outputs": [
    {
     "data": {
      "text/plain": [
       "torch.Size([64])"
      ]
     },
     "execution_count": 14,
     "metadata": {},
     "output_type": "execute_result"
    }
   ],
   "source": [
    "batch_labels.shape"
   ]
  },
  {
   "cell_type": "markdown",
   "metadata": {},
   "source": [
    "##### Visualise Images"
   ]
  },
  {
   "cell_type": "code",
   "execution_count": 15,
   "metadata": {},
   "outputs": [
    {
     "name": "stderr",
     "output_type": "stream",
     "text": [
      "Clipping input data to the valid range for imshow with RGB data ([0..1] for floats or [0..255] for integers).\n"
     ]
    },
    {
     "data": {
      "text/plain": [
       "<matplotlib.image.AxesImage at 0x1954e5203a0>"
      ]
     },
     "execution_count": 15,
     "metadata": {},
     "output_type": "execute_result"
    },
    {
     "data": {
      "image/png": "[encoded data removed]",
      "text/plain": [
       "<Figure size 432x288 with 1 Axes>"
      ]
     },
     "metadata": {
      "needs_background": "light"
     },
     "output_type": "display_data"
    }
   ],
   "source": [
    "batch_images_grid = torchvision.utils.make_grid(batch_images,nrow=8)\n",
    "writer.add_image(\"Retina Images\",batch_images_grid)\n",
    "writer.close()\n",
    "\n",
    "plt.imshow(batch_images_grid.permute(1, 2, 0))"
   ]
  },
  {
   "cell_type": "code",
   "execution_count": null,
   "metadata": {},
   "outputs": [],
   "source": []
  },
  {
   "cell_type": "markdown",
   "metadata": {},
   "source": [
    "### Utility Functions"
   ]
  },
  {
   "cell_type": "code",
   "execution_count": 16,
   "metadata": {},
   "outputs": [],
   "source": [
    "def make_prediction(model,dataloader,output_csv=\"submission.csv\"):\n",
    "    all_preds = []\n",
    "    file_names = []\n",
    "    # total_loss = 0.0\n",
    "    model.eval() #set the model to evaluation state\n",
    "\n",
    "    for inputs, labels, names in enumerate(dataloader):\n",
    "        inputs = inputs.to(DEVICE)\n",
    "        with torch.no_grad():\n",
    "            outs = model(inputs)\n",
    "\n",
    "            # _, batch_preds = torch.max(outs,1)\n",
    "            \n",
    "            preds = outs\n",
    "            preds[preds < 0.5] = 0\n",
    "            preds[(preds >= 0.5) & (preds < 1.5)] = 1\n",
    "            preds[(preds >= 1.5) & (preds < 2.5)] = 2\n",
    "            preds[(preds >= 2.5) & (preds < 3.5)] = 3\n",
    "            preds[preds >= 3.5] = 4\n",
    "            preds = preds.long().squeeze(1)\n",
    "\n",
    "            batch_preds = preds\n",
    "            all_preds.append(batch_preds.cpu().numpy())\n",
    "            file_names.append(names)\n",
    "\n",
    "    df = pd.DataFrame({\"image\":file_names,\"level\":np.concatenate(all_preds, axis=0)})\n",
    "    df.to_csv(output_csv,index=False)\n",
    "    model.train() #Set the model back to training phase\n",
    "\n",
    "def calculate_accuracy(model,dataloader,epoch_num):\n",
    "    model.eval()\n",
    "    total_loss = 0.0\n",
    "    all_preds, all_labels = [],[]\n",
    "    correct_predictions = 0\n",
    "    num_samples = 0\n",
    "    dataiter = tqdm(dataloader)\n",
    "    for batchID, (inputs, labels, names) in enumerate(dataiter):\n",
    "        inputs = inputs.to(DEVICE)\n",
    "        labels = labels.type(torch.LongTensor)\n",
    "        labels = labels.to(DEVICE)\n",
    "\n",
    "        with torch.no_grad():\n",
    "            outs = model(inputs)\n",
    "\n",
    "            # _, batch_preds = torch.max(outs,1)\n",
    "\n",
    "            preds = outs\n",
    "            preds[preds < 0.5] = 0\n",
    "            preds[(preds >= 0.5) & (preds < 1.5)] = 1\n",
    "            preds[(preds >= 1.5) & (preds < 2.5)] = 2\n",
    "            preds[(preds >= 2.5) & (preds < 3.5)] = 3\n",
    "            preds[preds >= 3.5] = 4\n",
    "            batch_preds = preds.long().view(-1)\n",
    "            labels_ = labels.view(-1)\n",
    "\n",
    "\n",
    "            \n",
    "            batch_loss = loss_func(outs,labels)\n",
    "            \n",
    "           \n",
    "            correct_predictions += (batch_preds==labels_).sum().item()\n",
    "            num_samples += outs.shape[0]\n",
    "\n",
    "            all_preds.append(batch_preds.cpu().numpy())\n",
    "            all_labels.append(labels.cpu().numpy())\n",
    "            total_loss += batch_loss.item()\n",
    "        dataiter.set_postfix(loss=batch_loss.item())\n",
    "            \n",
    "            \n",
    "\n",
    "    model.train()\n",
    "    epoch_acc = 100.0*correct_predictions/num_samples\n",
    "    epoch_loss = total_loss/len(dataloader)\n",
    "    # print(f\"Epoch Accuracy: {accuracy:.2f}%. Predicted {correct_predictions} correcctly out of {num_samples} images!\")\n",
    "    all_preds = np.concatenate(all_preds,axis=0,dtype=np.int64)\n",
    "    all_labels = np.concatenate(all_labels,axis=0,dtype=np.int64)\n",
    "    kappa = cohen_kappa_score(all_labels,all_preds,weights='quadratic')\n",
    "    print(f\"Epoch (Val): {epoch_num}, Loss= {epoch_loss}, Accuracy= {epoch_acc}, Kappa= {kappa}\")\n",
    "    writer.add_scalar('val_loss',epoch_loss,global_step=epoch_num)\n",
    "    writer.add_scalar('val_acc',epoch_acc,global_step=epoch_num)\n",
    "    writer.add_scalar('val_kappa',kappa,global_step=epoch_num)\n",
    "    writer.close()\n",
    "    return epoch_acc, kappa \n",
    "\n",
    "            \n",
    "def save_checkpoint(state_dicts):\n",
    "    torch.save(state_dicts,CHECKPOINT_FOLDER+CHECKPOINT_FILE)\n",
    "\n",
    "def load_checkpoint(checkpoint_file,model,optimiser,learning_rate):\n",
    "    checkpoint = torch.load(checkpoint_file)\n",
    "    model.load_state_dict(checkpoint[\"state_dict\"])\n",
    "    optimiser.load_state_dict(checkpoint[\"optimiser\"])\n",
    "\n",
    "    for params in optimiser.param_groups:\n",
    "        params[\"lr\"] = learning_rate\n",
    "    \n"
   ]
  },
  {
   "cell_type": "markdown",
   "metadata": {},
   "source": [
    "### Design the Model"
   ]
  },
  {
   "cell_type": "markdown",
   "metadata": {},
   "source": [
    "#### Model"
   ]
  },
  {
   "cell_type": "code",
   "execution_count": 17,
   "metadata": {},
   "outputs": [
    {
     "name": "stdout",
     "output_type": "stream",
     "text": [
      "Loaded pretrained weights for efficientnet-b3\n"
     ]
    }
   ],
   "source": [
    "model = EfficientNet.from_pretrained(\"efficientnet-b3\")\n",
    "in_features = model._fc.in_features\n",
    "# model._fc = nn.Linear(in_features,1) #Use just 1 prediction, convert this float value into integer predictions\n",
    "model._fc = nn.Linear(in_features,5)\n",
    "model = model.to(DEVICE)"
   ]
  },
  {
   "cell_type": "markdown",
   "metadata": {},
   "source": [
    "#### Loss Function, Optmiser"
   ]
  },
  {
   "cell_type": "code",
   "execution_count": 18,
   "metadata": {},
   "outputs": [],
   "source": [
    "# loss_func = nn.CrossEntropyLoss()\n",
    "loss_func = nn.MSELoss()\n",
    "optimiser = torch.optim.Adam(model.parameters(),lr=LEARNING_RATE,weight_decay=WEIGHT_DECAY)\n",
    "scaler = torch.cuda.amp.GradScaler()\n",
    "lr_scheduler1 = lr_scheduler.StepLR(optimiser,step_size=7,gamma=0.1)"
   ]
  },
  {
   "cell_type": "code",
   "execution_count": 19,
   "metadata": {},
   "outputs": [],
   "source": [
    "load_checkpoint('Checkpoints/EfNetB3_v2_B.pth.tar',model,optimiser,LEARNING_RATE)"
   ]
  },
  {
   "cell_type": "code",
   "execution_count": 20,
   "metadata": {},
   "outputs": [],
   "source": [
    "model._fc = nn.Linear(in_features,1) #Use just 1 prediction, convert this float value into integer predictions\n",
    "model = model.to(DEVICE)"
   ]
  },
  {
   "cell_type": "markdown",
   "metadata": {},
   "source": [
    "### Training"
   ]
  },
  {
   "cell_type": "code",
   "execution_count": 21,
   "metadata": {},
   "outputs": [],
   "source": [
    "def train_epoch(model,dataloader,optimiser,scheduler,loss_func,scaler,epoch_num):\n",
    "    total_loss = 0.0\n",
    "    dataiter = tqdm(dataloader)\n",
    "    correct_predictions = 0\n",
    "    num_samples = 0\n",
    "    all_preds, all_labels = [],[]\n",
    "    for batch_num,(inputs,labels,filenames) in enumerate(dataiter):\n",
    "        inputs = inputs.to(DEVICE)\n",
    "        labels = labels.type(torch.LongTensor)\n",
    "        labels = labels.to(DEVICE)\n",
    "\n",
    "        if batch_num%40 == 0 and epoch_num%10==0 : #visualising few batch images (after transforms) \n",
    "            writer.add_image(\"Batch_\"+str(batch_num),torchvision.utils.make_grid(inputs,nrow=8))\n",
    "            writer.close()\n",
    "\n",
    "        #forward pass\n",
    "        with torch.cuda.amp.autocast():\n",
    "            outs = model(inputs)\n",
    "            # _, batch_preds = torch.max(outs,1)\n",
    "            \n",
    "            # print(outs.shape,labels.shape) \n",
    "            batch_loss = loss_func(outs,labels.unsqueeze(1).float())\n",
    "\n",
    "            preds = outs\n",
    "            preds[preds < 0.5] = 0\n",
    "            preds[(preds >= 0.5) & (preds < 1.5)] = 1\n",
    "            preds[(preds >= 1.5) & (preds < 2.5)] = 2\n",
    "            preds[(preds >= 2.5) & (preds < 3.5)] = 3\n",
    "            preds[preds >= 3.5] = 4\n",
    "\n",
    "            batch_preds = preds.long().view(-1)\n",
    "            labels_ = labels.view(-1)\n",
    "\n",
    "\n",
    "\n",
    "\n",
    "        \n",
    "        total_loss += batch_loss.item()\n",
    "        correct_predictions += (batch_preds==labels_).sum().item()\n",
    "        num_samples += outs.shape[0]\n",
    "        all_preds.append(batch_preds.cpu().numpy())\n",
    "        all_labels.append(labels.cpu().numpy())\n",
    "\n",
    "        #backward step\n",
    "        optimiser.zero_grad()\n",
    "        scaler.scale(batch_loss).backward()\n",
    "        scaler.step(optimiser)\n",
    "        # optimiser.step()\n",
    "        scaler.update()\n",
    "        dataiter.set_postfix(loss=batch_loss.item())\n",
    "\n",
    "    epoch_loss = total_loss/len(dataloader)\n",
    "    epoch_acc = 100.0*correct_predictions/num_samples\n",
    "    all_preds = np.concatenate(all_preds,axis=0,dtype=np.int64)\n",
    "    all_labels = np.concatenate(all_labels,axis=0,dtype=np.int64)\n",
    "    scheduler.step()\n",
    "\n",
    "    kappa = cohen_kappa_score(all_labels,all_preds,weights='quadratic')\n",
    "    print(f\"Epoch (Train): {epoch_num}, Loss= {epoch_loss}, Accuracy= {epoch_acc}, Kappa= {kappa}\")\n",
    "    writer.add_scalar('training_loss',epoch_loss,global_step=epoch_num)\n",
    "    writer.add_scalar('training_acc',epoch_acc,global_step=epoch_num)\n",
    "    writer.add_scalar('training_kappa',kappa,global_step=epoch_num)\n",
    "    writer.close()\n",
    "    "
   ]
  },
  {
   "cell_type": "code",
   "execution_count": 23,
   "metadata": {},
   "outputs": [],
   "source": [
    "def trainModel(model,trainloader,valloader,optimiser,lr_scheduler1,loss_func,epochs):\n",
    "    \n",
    "    checkpoint_stuff = {\"state_dict\":model.state_dict() ,\"optimiser\":optimiser.state_dict()}\n",
    "    best_kappa = 0.0\n",
    "    best_epoch = 0\n",
    "    es = 0 #early stopper\n",
    "\n",
    "    for epoch in range(epochs):\n",
    "\n",
    "        #Train Phase\n",
    "        model.train()\n",
    "        \n",
    "        train_epoch(model,train_loader,optimiser,lr_scheduler1,loss_func,scaler,epoch)\n",
    "        \n",
    "        #Validation Phase\n",
    "        model.eval()\n",
    "        epoch_acc, kappa  = calculate_accuracy(model,val_loader,epoch)\n",
    "        \n",
    "        #Early stopping and checkpoints\n",
    "        if (kappa > best_kappa) :\n",
    "            best_kappa = kappa\n",
    "            es = 0 \n",
    "            checkpoint_stuff = {\"state_dict\":model.state_dict() ,\"optimiser\":optimiser.state_dict()}\n",
    "            best_epoch = epoch\n",
    "            print(f\"Checkpoint Saved at {best_epoch}\")\n",
    "        else :\n",
    "            es += 1\n",
    "            print(f\"Model performance has not improved in this epoch. Patience: {es}/{PATIENCE}\")\n",
    "            if es>PATIENCE:\n",
    "                print(f\"Early Stopping with {best_kappa} at Epoch {best_epoch}\")\n",
    "                break\n",
    "\n",
    "\n",
    "    model.load_state_dict(checkpoint_stuff[\"state_dict\"]) #load the best model\n",
    "    if SAVE_MODEL:\n",
    "        save_checkpoint(checkpoint_stuff)\n",
    "        # print(\"Checkpoint - Model Saved at {best_epoch}\")\n",
    "    return model #return the trained model\n",
    "    \n",
    "    \n",
    "\n",
    "\n"
   ]
  },
  {
   "cell_type": "code",
   "execution_count": 24,
   "metadata": {},
   "outputs": [
    {
     "name": "stderr",
     "output_type": "stream",
     "text": [
      "100%|██████████| 489/489 [04:51<00:00,  1.68it/s, loss=0.412] \n"
     ]
    },
    {
     "name": "stdout",
     "output_type": "stream",
     "text": [
      "Epoch (Train): 0, Loss= 0.26660310787840125, Accuracy= 79.83814215341309, Kappa= 0.8318386041408425\n"
     ]
    },
    {
     "name": "stderr",
     "output_type": "stream",
     "text": [
      "  0%|          | 0/61 [00:00<?, ?it/s]C:\\Users\\Abhinav Reddy Nimma\\AppData\\Roaming\\Python\\Python38\\site-packages\\torch\\nn\\modules\\loss.py:520: UserWarning: Using a target size (torch.Size([64])) that is different to the input size (torch.Size([64, 1])). This will likely lead to incorrect results due to broadcasting. Please ensure they have the same size.\n",
      "  return F.mse_loss(input, target, reduction=self.reduction)\n",
      " 98%|█████████▊| 60/61 [00:29<00:00,  2.07it/s, loss=1.11] C:\\Users\\Abhinav Reddy Nimma\\AppData\\Roaming\\Python\\Python38\\site-packages\\torch\\nn\\modules\\loss.py:520: UserWarning: Using a target size (torch.Size([24])) that is different to the input size (torch.Size([24, 1])). This will likely lead to incorrect results due to broadcasting. Please ensure they have the same size.\n",
      "  return F.mse_loss(input, target, reduction=self.reduction)\n",
      "100%|██████████| 61/61 [00:29<00:00,  2.09it/s, loss=3.38]\n"
     ]
    },
    {
     "name": "stdout",
     "output_type": "stream",
     "text": [
      "Epoch (Val): 0, Loss= 1.5667824667008197, Accuracy= 66.51138716356108, Kappa= 0.5778518683603471\n",
      "Checkpoint Saved at 0\n"
     ]
    },
    {
     "name": "stderr",
     "output_type": "stream",
     "text": [
      "100%|██████████| 489/489 [04:40<00:00,  1.75it/s, loss=0.0868]\n"
     ]
    },
    {
     "name": "stdout",
     "output_type": "stream",
     "text": [
      "Epoch (Train): 1, Loss= 0.17663988021558535, Accuracy= 84.4027893288977, Kappa= 0.8889122708604313\n"
     ]
    },
    {
     "name": "stderr",
     "output_type": "stream",
     "text": [
      "  0%|          | 0/61 [00:00<?, ?it/s]C:\\Users\\Abhinav Reddy Nimma\\AppData\\Roaming\\Python\\Python38\\site-packages\\torch\\nn\\modules\\loss.py:520: UserWarning: Using a target size (torch.Size([64])) that is different to the input size (torch.Size([64, 1])). This will likely lead to incorrect results due to broadcasting. Please ensure they have the same size.\n",
      "  return F.mse_loss(input, target, reduction=self.reduction)\n",
      " 98%|█████████▊| 60/61 [00:28<00:00,  2.20it/s, loss=1.14] C:\\Users\\Abhinav Reddy Nimma\\AppData\\Roaming\\Python\\Python38\\site-packages\\torch\\nn\\modules\\loss.py:520: UserWarning: Using a target size (torch.Size([24])) that is different to the input size (torch.Size([24, 1])). This will likely lead to incorrect results due to broadcasting. Please ensure they have the same size.\n",
      "  return F.mse_loss(input, target, reduction=self.reduction)\n",
      "100%|██████████| 61/61 [00:28<00:00,  2.16it/s, loss=3.21]\n"
     ]
    },
    {
     "name": "stdout",
     "output_type": "stream",
     "text": [
      "Epoch (Val): 1, Loss= 1.5432382372559095, Accuracy= 67.59834368530021, Kappa= 0.5729080470245147\n",
      "Model performance has not improved in this epoch. Patience: 1/4\n"
     ]
    },
    {
     "name": "stderr",
     "output_type": "stream",
     "text": [
      "100%|██████████| 489/489 [04:43<00:00,  1.73it/s, loss=0.172] \n"
     ]
    },
    {
     "name": "stdout",
     "output_type": "stream",
     "text": [
      "Epoch (Train): 2, Loss= 0.1586338958278268, Accuracy= 86.12692725993219, Kappa= 0.9016028144640269\n"
     ]
    },
    {
     "name": "stderr",
     "output_type": "stream",
     "text": [
      "  0%|          | 0/61 [00:00<?, ?it/s]C:\\Users\\Abhinav Reddy Nimma\\AppData\\Roaming\\Python\\Python38\\site-packages\\torch\\nn\\modules\\loss.py:520: UserWarning: Using a target size (torch.Size([64])) that is different to the input size (torch.Size([64, 1])). This will likely lead to incorrect results due to broadcasting. Please ensure they have the same size.\n",
      "  return F.mse_loss(input, target, reduction=self.reduction)\n",
      " 98%|█████████▊| 60/61 [00:28<00:00,  2.14it/s, loss=1.17] C:\\Users\\Abhinav Reddy Nimma\\AppData\\Roaming\\Python\\Python38\\site-packages\\torch\\nn\\modules\\loss.py:520: UserWarning: Using a target size (torch.Size([24])) that is different to the input size (torch.Size([24, 1])). This will likely lead to incorrect results due to broadcasting. Please ensure they have the same size.\n",
      "  return F.mse_loss(input, target, reduction=self.reduction)\n",
      "100%|██████████| 61/61 [00:28<00:00,  2.15it/s, loss=3.21]\n"
     ]
    },
    {
     "name": "stdout",
     "output_type": "stream",
     "text": [
      "Epoch (Val): 2, Loss= 1.6672296563132865, Accuracy= 67.49482401656314, Kappa= 0.5954176153439061\n",
      "Checkpoint Saved at 2\n"
     ]
    },
    {
     "name": "stderr",
     "output_type": "stream",
     "text": [
      "100%|██████████| 489/489 [04:40<00:00,  1.74it/s, loss=0.314] \n"
     ]
    },
    {
     "name": "stdout",
     "output_type": "stream",
     "text": [
      "Epoch (Train): 3, Loss= 0.14750472204816853, Accuracy= 86.913825091165, Kappa= 0.9095494341282786\n"
     ]
    },
    {
     "name": "stderr",
     "output_type": "stream",
     "text": [
      "  0%|          | 0/61 [00:00<?, ?it/s]C:\\Users\\Abhinav Reddy Nimma\\AppData\\Roaming\\Python\\Python38\\site-packages\\torch\\nn\\modules\\loss.py:520: UserWarning: Using a target size (torch.Size([64])) that is different to the input size (torch.Size([64, 1])). This will likely lead to incorrect results due to broadcasting. Please ensure they have the same size.\n",
      "  return F.mse_loss(input, target, reduction=self.reduction)\n",
      " 98%|█████████▊| 60/61 [00:27<00:00,  2.17it/s, loss=1.26] C:\\Users\\Abhinav Reddy Nimma\\AppData\\Roaming\\Python\\Python38\\site-packages\\torch\\nn\\modules\\loss.py:520: UserWarning: Using a target size (torch.Size([24])) that is different to the input size (torch.Size([24, 1])). This will likely lead to incorrect results due to broadcasting. Please ensure they have the same size.\n",
      "  return F.mse_loss(input, target, reduction=self.reduction)\n",
      "100%|██████████| 61/61 [00:27<00:00,  2.23it/s, loss=3.4] \n"
     ]
    },
    {
     "name": "stdout",
     "output_type": "stream",
     "text": [
      "Epoch (Val): 3, Loss= 1.6994001865386963, Accuracy= 68.63354037267081, Kappa= 0.6098630540915193\n",
      "Checkpoint Saved at 3\n"
     ]
    },
    {
     "name": "stderr",
     "output_type": "stream",
     "text": [
      "100%|██████████| 489/489 [04:34<00:00,  1.78it/s, loss=0.422] \n"
     ]
    },
    {
     "name": "stdout",
     "output_type": "stream",
     "text": [
      "Epoch (Train): 4, Loss= 0.1395058617574793, Accuracy= 87.8190774742499, Kappa= 0.9149628026010627\n"
     ]
    },
    {
     "name": "stderr",
     "output_type": "stream",
     "text": [
      "  0%|          | 0/61 [00:00<?, ?it/s]C:\\Users\\Abhinav Reddy Nimma\\AppData\\Roaming\\Python\\Python38\\site-packages\\torch\\nn\\modules\\loss.py:520: UserWarning: Using a target size (torch.Size([64])) that is different to the input size (torch.Size([64, 1])). This will likely lead to incorrect results due to broadcasting. Please ensure they have the same size.\n",
      "  return F.mse_loss(input, target, reduction=self.reduction)\n",
      " 98%|█████████▊| 60/61 [00:27<00:00,  2.16it/s, loss=1.36] C:\\Users\\Abhinav Reddy Nimma\\AppData\\Roaming\\Python\\Python38\\site-packages\\torch\\nn\\modules\\loss.py:520: UserWarning: Using a target size (torch.Size([24])) that is different to the input size (torch.Size([24, 1])). This will likely lead to incorrect results due to broadcasting. Please ensure they have the same size.\n",
      "  return F.mse_loss(input, target, reduction=self.reduction)\n",
      "100%|██████████| 61/61 [00:27<00:00,  2.22it/s, loss=3.18]\n"
     ]
    },
    {
     "name": "stdout",
     "output_type": "stream",
     "text": [
      "Epoch (Val): 4, Loss= 1.7397754426862373, Accuracy= 68.2712215320911, Kappa= 0.6152014145677204\n",
      "Checkpoint Saved at 4\n"
     ]
    },
    {
     "name": "stderr",
     "output_type": "stream",
     "text": [
      "100%|██████████| 489/489 [04:34<00:00,  1.78it/s, loss=0.0621]\n"
     ]
    },
    {
     "name": "stdout",
     "output_type": "stream",
     "text": [
      "Epoch (Train): 5, Loss= 0.12710125494466482, Accuracy= 88.35966988676348, Kappa= 0.9223290866630314\n"
     ]
    },
    {
     "name": "stderr",
     "output_type": "stream",
     "text": [
      "  0%|          | 0/61 [00:00<?, ?it/s]C:\\Users\\Abhinav Reddy Nimma\\AppData\\Roaming\\Python\\Python38\\site-packages\\torch\\nn\\modules\\loss.py:520: UserWarning: Using a target size (torch.Size([64])) that is different to the input size (torch.Size([64, 1])). This will likely lead to incorrect results due to broadcasting. Please ensure they have the same size.\n",
      "  return F.mse_loss(input, target, reduction=self.reduction)\n",
      " 98%|█████████▊| 60/61 [00:27<00:00,  2.22it/s, loss=1.21] C:\\Users\\Abhinav Reddy Nimma\\AppData\\Roaming\\Python\\Python38\\site-packages\\torch\\nn\\modules\\loss.py:520: UserWarning: Using a target size (torch.Size([24])) that is different to the input size (torch.Size([24, 1])). This will likely lead to incorrect results due to broadcasting. Please ensure they have the same size.\n",
      "  return F.mse_loss(input, target, reduction=self.reduction)\n",
      "100%|██████████| 61/61 [00:27<00:00,  2.20it/s, loss=3.35]\n"
     ]
    },
    {
     "name": "stdout",
     "output_type": "stream",
     "text": [
      "Epoch (Val): 5, Loss= 1.6556443190965495, Accuracy= 67.2360248447205, Kappa= 0.6024832769295198\n",
      "Model performance has not improved in this epoch. Patience: 1/4\n"
     ]
    },
    {
     "name": "stderr",
     "output_type": "stream",
     "text": [
      "100%|██████████| 489/489 [04:40<00:00,  1.74it/s, loss=0.66]  \n"
     ]
    },
    {
     "name": "stdout",
     "output_type": "stream",
     "text": [
      "Epoch (Train): 6, Loss= 0.13064277722883078, Accuracy= 88.31168831168831, Kappa= 0.9200808663214538\n"
     ]
    },
    {
     "name": "stderr",
     "output_type": "stream",
     "text": [
      "  0%|          | 0/61 [00:00<?, ?it/s]C:\\Users\\Abhinav Reddy Nimma\\AppData\\Roaming\\Python\\Python38\\site-packages\\torch\\nn\\modules\\loss.py:520: UserWarning: Using a target size (torch.Size([64])) that is different to the input size (torch.Size([64, 1])). This will likely lead to incorrect results due to broadcasting. Please ensure they have the same size.\n",
      "  return F.mse_loss(input, target, reduction=self.reduction)\n",
      " 98%|█████████▊| 60/61 [00:27<00:00,  2.22it/s, loss=1.33] C:\\Users\\Abhinav Reddy Nimma\\AppData\\Roaming\\Python\\Python38\\site-packages\\torch\\nn\\modules\\loss.py:520: UserWarning: Using a target size (torch.Size([24])) that is different to the input size (torch.Size([24, 1])). This will likely lead to incorrect results due to broadcasting. Please ensure they have the same size.\n",
      "  return F.mse_loss(input, target, reduction=self.reduction)\n",
      "100%|██████████| 61/61 [00:27<00:00,  2.23it/s, loss=3.26]\n"
     ]
    },
    {
     "name": "stdout",
     "output_type": "stream",
     "text": [
      "Epoch (Val): 6, Loss= 1.6519862120268776, Accuracy= 68.76293995859213, Kappa= 0.6127710304565785\n",
      "Model performance has not improved in this epoch. Patience: 2/4\n"
     ]
    },
    {
     "name": "stderr",
     "output_type": "stream",
     "text": [
      "100%|██████████| 489/489 [04:43<00:00,  1.73it/s, loss=0.0403]\n"
     ]
    },
    {
     "name": "stdout",
     "output_type": "stream",
     "text": [
      "Epoch (Train): 7, Loss= 0.09550017313860311, Accuracy= 90.9826626575395, Kappa= 0.9434309574988597\n"
     ]
    },
    {
     "name": "stderr",
     "output_type": "stream",
     "text": [
      "  0%|          | 0/61 [00:00<?, ?it/s]C:\\Users\\Abhinav Reddy Nimma\\AppData\\Roaming\\Python\\Python38\\site-packages\\torch\\nn\\modules\\loss.py:520: UserWarning: Using a target size (torch.Size([64])) that is different to the input size (torch.Size([64, 1])). This will likely lead to incorrect results due to broadcasting. Please ensure they have the same size.\n",
      "  return F.mse_loss(input, target, reduction=self.reduction)\n",
      " 98%|█████████▊| 60/61 [00:29<00:00,  1.97it/s, loss=1.3]  C:\\Users\\Abhinav Reddy Nimma\\AppData\\Roaming\\Python\\Python38\\site-packages\\torch\\nn\\modules\\loss.py:520: UserWarning: Using a target size (torch.Size([24])) that is different to the input size (torch.Size([24, 1])). This will likely lead to incorrect results due to broadcasting. Please ensure they have the same size.\n",
      "  return F.mse_loss(input, target, reduction=self.reduction)\n",
      "100%|██████████| 61/61 [00:30<00:00,  2.03it/s, loss=3.26]\n"
     ]
    },
    {
     "name": "stdout",
     "output_type": "stream",
     "text": [
      "Epoch (Val): 7, Loss= 1.656548840100648, Accuracy= 70.23809523809524, Kappa= 0.6304349579944746\n",
      "Checkpoint Saved at 7\n"
     ]
    },
    {
     "name": "stderr",
     "output_type": "stream",
     "text": [
      "100%|██████████| 489/489 [04:39<00:00,  1.75it/s, loss=0.0878]\n"
     ]
    },
    {
     "name": "stdout",
     "output_type": "stream",
     "text": [
      "Epoch (Train): 8, Loss= 0.07737631012889383, Accuracy= 92.71319813191734, Kappa= 0.9549113946113034\n"
     ]
    },
    {
     "name": "stderr",
     "output_type": "stream",
     "text": [
      "  0%|          | 0/61 [00:00<?, ?it/s]C:\\Users\\Abhinav Reddy Nimma\\AppData\\Roaming\\Python\\Python38\\site-packages\\torch\\nn\\modules\\loss.py:520: UserWarning: Using a target size (torch.Size([64])) that is different to the input size (torch.Size([64, 1])). This will likely lead to incorrect results due to broadcasting. Please ensure they have the same size.\n",
      "  return F.mse_loss(input, target, reduction=self.reduction)\n",
      " 98%|█████████▊| 60/61 [00:27<00:00,  2.21it/s, loss=1.29] C:\\Users\\Abhinav Reddy Nimma\\AppData\\Roaming\\Python\\Python38\\site-packages\\torch\\nn\\modules\\loss.py:520: UserWarning: Using a target size (torch.Size([24])) that is different to the input size (torch.Size([24, 1])). This will likely lead to incorrect results due to broadcasting. Please ensure they have the same size.\n",
      "  return F.mse_loss(input, target, reduction=self.reduction)\n",
      "100%|██████████| 61/61 [00:27<00:00,  2.23it/s, loss=3.46]\n"
     ]
    },
    {
     "name": "stdout",
     "output_type": "stream",
     "text": [
      "Epoch (Val): 8, Loss= 1.6673737393050898, Accuracy= 70.1086956521739, Kappa= 0.628673885885096\n",
      "Model performance has not improved in this epoch. Patience: 1/4\n"
     ]
    },
    {
     "name": "stderr",
     "output_type": "stream",
     "text": [
      "100%|██████████| 489/489 [04:45<00:00,  1.71it/s, loss=0.0361]\n"
     ]
    },
    {
     "name": "stdout",
     "output_type": "stream",
     "text": [
      "Epoch (Train): 9, Loss= 0.06809514859626507, Accuracy= 93.56727016825539, Kappa= 0.9610181774772883\n"
     ]
    },
    {
     "name": "stderr",
     "output_type": "stream",
     "text": [
      "  0%|          | 0/61 [00:00<?, ?it/s]C:\\Users\\Abhinav Reddy Nimma\\AppData\\Roaming\\Python\\Python38\\site-packages\\torch\\nn\\modules\\loss.py:520: UserWarning: Using a target size (torch.Size([64])) that is different to the input size (torch.Size([64, 1])). This will likely lead to incorrect results due to broadcasting. Please ensure they have the same size.\n",
      "  return F.mse_loss(input, target, reduction=self.reduction)\n",
      " 98%|█████████▊| 60/61 [00:28<00:00,  2.26it/s, loss=1.3]  C:\\Users\\Abhinav Reddy Nimma\\AppData\\Roaming\\Python\\Python38\\site-packages\\torch\\nn\\modules\\loss.py:520: UserWarning: Using a target size (torch.Size([24])) that is different to the input size (torch.Size([24, 1])). This will likely lead to incorrect results due to broadcasting. Please ensure they have the same size.\n",
      "  return F.mse_loss(input, target, reduction=self.reduction)\n",
      "100%|██████████| 61/61 [00:28<00:00,  2.16it/s, loss=3.41]\n"
     ]
    },
    {
     "name": "stdout",
     "output_type": "stream",
     "text": [
      "Epoch (Val): 9, Loss= 1.6794633709016393, Accuracy= 70.08281573498965, Kappa= 0.6336814300872514\n",
      "Checkpoint Saved at 9\n"
     ]
    },
    {
     "name": "stderr",
     "output_type": "stream",
     "text": [
      "100%|██████████| 489/489 [04:49<00:00,  1.69it/s, loss=0.228] \n"
     ]
    },
    {
     "name": "stdout",
     "output_type": "stream",
     "text": [
      "Epoch (Train): 10, Loss= 0.06683887613285905, Accuracy= 93.74000383852601, Kappa= 0.962847164483418\n"
     ]
    },
    {
     "name": "stderr",
     "output_type": "stream",
     "text": [
      "  0%|          | 0/61 [00:00<?, ?it/s]C:\\Users\\Abhinav Reddy Nimma\\AppData\\Roaming\\Python\\Python38\\site-packages\\torch\\nn\\modules\\loss.py:520: UserWarning: Using a target size (torch.Size([64])) that is different to the input size (torch.Size([64, 1])). This will likely lead to incorrect results due to broadcasting. Please ensure they have the same size.\n",
      "  return F.mse_loss(input, target, reduction=self.reduction)\n",
      " 98%|█████████▊| 60/61 [00:27<00:00,  2.17it/s, loss=1.33] C:\\Users\\Abhinav Reddy Nimma\\AppData\\Roaming\\Python\\Python38\\site-packages\\torch\\nn\\modules\\loss.py:520: UserWarning: Using a target size (torch.Size([24])) that is different to the input size (torch.Size([24, 1])). This will likely lead to incorrect results due to broadcasting. Please ensure they have the same size.\n",
      "  return F.mse_loss(input, target, reduction=self.reduction)\n",
      "100%|██████████| 61/61 [00:28<00:00,  2.18it/s, loss=3.51]\n"
     ]
    },
    {
     "name": "stdout",
     "output_type": "stream",
     "text": [
      "Epoch (Val): 10, Loss= 1.683708484055566, Accuracy= 69.87577639751552, Kappa= 0.6352314214981042\n",
      "Checkpoint Saved at 10\n"
     ]
    },
    {
     "name": "stderr",
     "output_type": "stream",
     "text": [
      "100%|██████████| 489/489 [04:39<00:00,  1.75it/s, loss=0.0341]\n"
     ]
    },
    {
     "name": "stdout",
     "output_type": "stream",
     "text": [
      "Epoch (Train): 11, Loss= 0.06016940068918259, Accuracy= 94.30618642441303, Kappa= 0.9665856290868369\n"
     ]
    },
    {
     "name": "stderr",
     "output_type": "stream",
     "text": [
      "  0%|          | 0/61 [00:00<?, ?it/s]C:\\Users\\Abhinav Reddy Nimma\\AppData\\Roaming\\Python\\Python38\\site-packages\\torch\\nn\\modules\\loss.py:520: UserWarning: Using a target size (torch.Size([64])) that is different to the input size (torch.Size([64, 1])). This will likely lead to incorrect results due to broadcasting. Please ensure they have the same size.\n",
      "  return F.mse_loss(input, target, reduction=self.reduction)\n",
      " 98%|█████████▊| 60/61 [00:28<00:00,  2.19it/s, loss=1.3]  C:\\Users\\Abhinav Reddy Nimma\\AppData\\Roaming\\Python\\Python38\\site-packages\\torch\\nn\\modules\\loss.py:520: UserWarning: Using a target size (torch.Size([24])) that is different to the input size (torch.Size([24, 1])). This will likely lead to incorrect results due to broadcasting. Please ensure they have the same size.\n",
      "  return F.mse_loss(input, target, reduction=self.reduction)\n",
      "100%|██████████| 61/61 [00:28<00:00,  2.14it/s, loss=3.51]\n"
     ]
    },
    {
     "name": "stdout",
     "output_type": "stream",
     "text": [
      "Epoch (Val): 11, Loss= 1.6849491987072054, Accuracy= 70.4192546583851, Kappa= 0.6349340082831427\n",
      "Model performance has not improved in this epoch. Patience: 1/4\n"
     ]
    },
    {
     "name": "stderr",
     "output_type": "stream",
     "text": [
      "100%|██████████| 489/489 [04:39<00:00,  1.75it/s, loss=0.0472]\n"
     ]
    },
    {
     "name": "stdout",
     "output_type": "stream",
     "text": [
      "Epoch (Train): 12, Loss= 0.05912890075753559, Accuracy= 94.4405348346235, Kappa= 0.9674329320955293\n"
     ]
    },
    {
     "name": "stderr",
     "output_type": "stream",
     "text": [
      "  0%|          | 0/61 [00:00<?, ?it/s]C:\\Users\\Abhinav Reddy Nimma\\AppData\\Roaming\\Python\\Python38\\site-packages\\torch\\nn\\modules\\loss.py:520: UserWarning: Using a target size (torch.Size([64])) that is different to the input size (torch.Size([64, 1])). This will likely lead to incorrect results due to broadcasting. Please ensure they have the same size.\n",
      "  return F.mse_loss(input, target, reduction=self.reduction)\n",
      " 98%|█████████▊| 60/61 [00:27<00:00,  2.19it/s, loss=1.3]  C:\\Users\\Abhinav Reddy Nimma\\AppData\\Roaming\\Python\\Python38\\site-packages\\torch\\nn\\modules\\loss.py:520: UserWarning: Using a target size (torch.Size([24])) that is different to the input size (torch.Size([24, 1])). This will likely lead to incorrect results due to broadcasting. Please ensure they have the same size.\n",
      "  return F.mse_loss(input, target, reduction=self.reduction)\n",
      "100%|██████████| 61/61 [00:28<00:00,  2.17it/s, loss=3.51]\n"
     ]
    },
    {
     "name": "stdout",
     "output_type": "stream",
     "text": [
      "Epoch (Val): 12, Loss= 1.6846130050596644, Accuracy= 69.97929606625259, Kappa= 0.6317225989048909\n",
      "Model performance has not improved in this epoch. Patience: 2/4\n"
     ]
    },
    {
     "name": "stderr",
     "output_type": "stream",
     "text": [
      "100%|██████████| 489/489 [04:39<00:00,  1.75it/s, loss=0.0334]\n"
     ]
    },
    {
     "name": "stdout",
     "output_type": "stream",
     "text": [
      "Epoch (Train): 13, Loss= 0.055968031153875136, Accuracy= 94.84358006525494, Kappa= 0.9693916051068523\n"
     ]
    },
    {
     "name": "stderr",
     "output_type": "stream",
     "text": [
      "  0%|          | 0/61 [00:00<?, ?it/s]C:\\Users\\Abhinav Reddy Nimma\\AppData\\Roaming\\Python\\Python38\\site-packages\\torch\\nn\\modules\\loss.py:520: UserWarning: Using a target size (torch.Size([64])) that is different to the input size (torch.Size([64, 1])). This will likely lead to incorrect results due to broadcasting. Please ensure they have the same size.\n",
      "  return F.mse_loss(input, target, reduction=self.reduction)\n",
      " 98%|█████████▊| 60/61 [00:27<00:00,  2.25it/s, loss=1.3]  C:\\Users\\Abhinav Reddy Nimma\\AppData\\Roaming\\Python\\Python38\\site-packages\\torch\\nn\\modules\\loss.py:520: UserWarning: Using a target size (torch.Size([24])) that is different to the input size (torch.Size([24, 1])). This will likely lead to incorrect results due to broadcasting. Please ensure they have the same size.\n",
      "  return F.mse_loss(input, target, reduction=self.reduction)\n",
      "100%|██████████| 61/61 [00:27<00:00,  2.19it/s, loss=3.51]\n"
     ]
    },
    {
     "name": "stdout",
     "output_type": "stream",
     "text": [
      "Epoch (Val): 13, Loss= 1.6859577796498284, Accuracy= 69.7463768115942, Kappa= 0.6331676364032429\n",
      "Model performance has not improved in this epoch. Patience: 3/4\n"
     ]
    },
    {
     "name": "stderr",
     "output_type": "stream",
     "text": [
      "100%|██████████| 489/489 [04:38<00:00,  1.75it/s, loss=0.0779]\n"
     ]
    },
    {
     "name": "stdout",
     "output_type": "stream",
     "text": [
      "Epoch (Train): 14, Loss= 0.052580285825002904, Accuracy= 95.09628302731751, Kappa= 0.971976783351358\n"
     ]
    },
    {
     "name": "stderr",
     "output_type": "stream",
     "text": [
      "  0%|          | 0/61 [00:00<?, ?it/s]C:\\Users\\Abhinav Reddy Nimma\\AppData\\Roaming\\Python\\Python38\\site-packages\\torch\\nn\\modules\\loss.py:520: UserWarning: Using a target size (torch.Size([64])) that is different to the input size (torch.Size([64, 1])). This will likely lead to incorrect results due to broadcasting. Please ensure they have the same size.\n",
      "  return F.mse_loss(input, target, reduction=self.reduction)\n",
      " 98%|█████████▊| 60/61 [00:27<00:00,  2.21it/s, loss=1.3]  C:\\Users\\Abhinav Reddy Nimma\\AppData\\Roaming\\Python\\Python38\\site-packages\\torch\\nn\\modules\\loss.py:520: UserWarning: Using a target size (torch.Size([24])) that is different to the input size (torch.Size([24, 1])). This will likely lead to incorrect results due to broadcasting. Please ensure they have the same size.\n",
      "  return F.mse_loss(input, target, reduction=self.reduction)\n",
      "100%|██████████| 61/61 [00:27<00:00,  2.19it/s, loss=3.51]\n"
     ]
    },
    {
     "name": "stdout",
     "output_type": "stream",
     "text": [
      "Epoch (Val): 14, Loss= 1.6849091756539267, Accuracy= 70.08281573498965, Kappa= 0.6367928073134999\n",
      "Checkpoint Saved at 14\n"
     ]
    },
    {
     "name": "stderr",
     "output_type": "stream",
     "text": [
      "100%|██████████| 489/489 [04:38<00:00,  1.76it/s, loss=0.101] \n"
     ]
    },
    {
     "name": "stdout",
     "output_type": "stream",
     "text": [
      "Epoch (Train): 15, Loss= 0.051628112402536994, Accuracy= 95.20824003582624, Kappa= 0.9725460944483955\n"
     ]
    },
    {
     "name": "stderr",
     "output_type": "stream",
     "text": [
      "  0%|          | 0/61 [00:00<?, ?it/s]C:\\Users\\Abhinav Reddy Nimma\\AppData\\Roaming\\Python\\Python38\\site-packages\\torch\\nn\\modules\\loss.py:520: UserWarning: Using a target size (torch.Size([64])) that is different to the input size (torch.Size([64, 1])). This will likely lead to incorrect results due to broadcasting. Please ensure they have the same size.\n",
      "  return F.mse_loss(input, target, reduction=self.reduction)\n",
      " 98%|█████████▊| 60/61 [00:27<00:00,  2.19it/s, loss=1.3]  C:\\Users\\Abhinav Reddy Nimma\\AppData\\Roaming\\Python\\Python38\\site-packages\\torch\\nn\\modules\\loss.py:520: UserWarning: Using a target size (torch.Size([24])) that is different to the input size (torch.Size([24, 1])). This will likely lead to incorrect results due to broadcasting. Please ensure they have the same size.\n",
      "  return F.mse_loss(input, target, reduction=self.reduction)\n",
      "100%|██████████| 61/61 [00:27<00:00,  2.18it/s, loss=3.51]\n"
     ]
    },
    {
     "name": "stdout",
     "output_type": "stream",
     "text": [
      "Epoch (Val): 15, Loss= 1.679986340100648, Accuracy= 69.97929606625259, Kappa= 0.6334696707503591\n",
      "Model performance has not improved in this epoch. Patience: 1/4\n"
     ]
    },
    {
     "name": "stderr",
     "output_type": "stream",
     "text": [
      "100%|██████████| 489/489 [04:38<00:00,  1.76it/s, loss=0.0331]\n"
     ]
    },
    {
     "name": "stdout",
     "output_type": "stream",
     "text": [
      "Epoch (Train): 16, Loss= 0.05083895048435114, Accuracy= 95.41616019448531, Kappa= 0.9734882435457326\n"
     ]
    },
    {
     "name": "stderr",
     "output_type": "stream",
     "text": [
      "  0%|          | 0/61 [00:00<?, ?it/s]C:\\Users\\Abhinav Reddy Nimma\\AppData\\Roaming\\Python\\Python38\\site-packages\\torch\\nn\\modules\\loss.py:520: UserWarning: Using a target size (torch.Size([64])) that is different to the input size (torch.Size([64, 1])). This will likely lead to incorrect results due to broadcasting. Please ensure they have the same size.\n",
      "  return F.mse_loss(input, target, reduction=self.reduction)\n",
      " 98%|█████████▊| 60/61 [00:27<00:00,  2.15it/s, loss=1.3]  C:\\Users\\Abhinav Reddy Nimma\\AppData\\Roaming\\Python\\Python38\\site-packages\\torch\\nn\\modules\\loss.py:520: UserWarning: Using a target size (torch.Size([24])) that is different to the input size (torch.Size([24, 1])). This will likely lead to incorrect results due to broadcasting. Please ensure they have the same size.\n",
      "  return F.mse_loss(input, target, reduction=self.reduction)\n",
      "100%|██████████| 61/61 [00:27<00:00,  2.19it/s, loss=3.41]\n"
     ]
    },
    {
     "name": "stdout",
     "output_type": "stream",
     "text": [
      "Epoch (Val): 16, Loss= 1.6840340035860655, Accuracy= 69.77225672877847, Kappa= 0.6308873392617235\n",
      "Model performance has not improved in this epoch. Patience: 2/4\n"
     ]
    },
    {
     "name": "stderr",
     "output_type": "stream",
     "text": [
      "100%|██████████| 489/489 [04:38<00:00,  1.76it/s, loss=0.0349]\n"
     ]
    },
    {
     "name": "stdout",
     "output_type": "stream",
     "text": [
      "Epoch (Train): 17, Loss= 0.05176692255077491, Accuracy= 95.39696756445525, Kappa= 0.9731789973012407\n"
     ]
    },
    {
     "name": "stderr",
     "output_type": "stream",
     "text": [
      "  0%|          | 0/61 [00:00<?, ?it/s]C:\\Users\\Abhinav Reddy Nimma\\AppData\\Roaming\\Python\\Python38\\site-packages\\torch\\nn\\modules\\loss.py:520: UserWarning: Using a target size (torch.Size([64])) that is different to the input size (torch.Size([64, 1])). This will likely lead to incorrect results due to broadcasting. Please ensure they have the same size.\n",
      "  return F.mse_loss(input, target, reduction=self.reduction)\n",
      " 98%|█████████▊| 60/61 [00:27<00:00,  2.20it/s, loss=1.3]  C:\\Users\\Abhinav Reddy Nimma\\AppData\\Roaming\\Python\\Python38\\site-packages\\torch\\nn\\modules\\loss.py:520: UserWarning: Using a target size (torch.Size([24])) that is different to the input size (torch.Size([24, 1])). This will likely lead to incorrect results due to broadcasting. Please ensure they have the same size.\n",
      "  return F.mse_loss(input, target, reduction=self.reduction)\n",
      "100%|██████████| 61/61 [00:27<00:00,  2.19it/s, loss=3.41]\n"
     ]
    },
    {
     "name": "stdout",
     "output_type": "stream",
     "text": [
      "Epoch (Val): 17, Loss= 1.6761654713114753, Accuracy= 70.2639751552795, Kappa= 0.6349410938059048\n",
      "Model performance has not improved in this epoch. Patience: 3/4\n"
     ]
    },
    {
     "name": "stderr",
     "output_type": "stream",
     "text": [
      "100%|██████████| 489/489 [04:38<00:00,  1.75it/s, loss=0.157] \n"
     ]
    },
    {
     "name": "stdout",
     "output_type": "stream",
     "text": [
      "Epoch (Train): 18, Loss= 0.051885495859375394, Accuracy= 95.32019704433498, Kappa= 0.9728335599439611\n"
     ]
    },
    {
     "name": "stderr",
     "output_type": "stream",
     "text": [
      "  0%|          | 0/61 [00:00<?, ?it/s]C:\\Users\\Abhinav Reddy Nimma\\AppData\\Roaming\\Python\\Python38\\site-packages\\torch\\nn\\modules\\loss.py:520: UserWarning: Using a target size (torch.Size([64])) that is different to the input size (torch.Size([64, 1])). This will likely lead to incorrect results due to broadcasting. Please ensure they have the same size.\n",
      "  return F.mse_loss(input, target, reduction=self.reduction)\n",
      " 98%|█████████▊| 60/61 [00:27<00:00,  2.25it/s, loss=1.29] C:\\Users\\Abhinav Reddy Nimma\\AppData\\Roaming\\Python\\Python38\\site-packages\\torch\\nn\\modules\\loss.py:520: UserWarning: Using a target size (torch.Size([24])) that is different to the input size (torch.Size([24, 1])). This will likely lead to incorrect results due to broadcasting. Please ensure they have the same size.\n",
      "  return F.mse_loss(input, target, reduction=self.reduction)\n",
      "100%|██████████| 61/61 [00:27<00:00,  2.19it/s, loss=3.46]\n"
     ]
    },
    {
     "name": "stdout",
     "output_type": "stream",
     "text": [
      "Epoch (Val): 18, Loss= 1.671912353546893, Accuracy= 70.44513457556936, Kappa= 0.6323422806713614\n",
      "Model performance has not improved in this epoch. Patience: 4/4\n"
     ]
    },
    {
     "name": "stderr",
     "output_type": "stream",
     "text": [
      "100%|██████████| 489/489 [04:38<00:00,  1.75it/s, loss=0.115] \n"
     ]
    },
    {
     "name": "stdout",
     "output_type": "stream",
     "text": [
      "Epoch (Train): 19, Loss= 0.049146890943081466, Accuracy= 95.48333439959056, Kappa= 0.9745337720440953\n"
     ]
    },
    {
     "name": "stderr",
     "output_type": "stream",
     "text": [
      "  0%|          | 0/61 [00:00<?, ?it/s]C:\\Users\\Abhinav Reddy Nimma\\AppData\\Roaming\\Python\\Python38\\site-packages\\torch\\nn\\modules\\loss.py:520: UserWarning: Using a target size (torch.Size([64])) that is different to the input size (torch.Size([64, 1])). This will likely lead to incorrect results due to broadcasting. Please ensure they have the same size.\n",
      "  return F.mse_loss(input, target, reduction=self.reduction)\n",
      " 98%|█████████▊| 60/61 [00:27<00:00,  2.18it/s, loss=1.3]  C:\\Users\\Abhinav Reddy Nimma\\AppData\\Roaming\\Python\\Python38\\site-packages\\torch\\nn\\modules\\loss.py:520: UserWarning: Using a target size (torch.Size([24])) that is different to the input size (torch.Size([24, 1])). This will likely lead to incorrect results due to broadcasting. Please ensure they have the same size.\n",
      "  return F.mse_loss(input, target, reduction=self.reduction)\n",
      "100%|██████████| 61/61 [00:27<00:00,  2.18it/s, loss=3.46]\n"
     ]
    },
    {
     "name": "stdout",
     "output_type": "stream",
     "text": [
      "Epoch (Val): 19, Loss= 1.6774835625632865, Accuracy= 70.4968944099379, Kappa= 0.6316843890397585\n",
      "Model performance has not improved in this epoch. Patience: 5/4\n",
      "Early Stopping with 0.6367928073134999 at Epoch 14\n"
     ]
    },
    {
     "ename": "",
     "evalue": "",
     "output_type": "error",
     "traceback": [
      "\u001b[1;31mThe Kernel crashed while executing code in the the current cell or a previous cell. Please review the code in the cell(s) to identify a possible cause of the failure. Click <a href='https://aka.ms/vscodeJupyterKernelCrash'>here</a> for more info. View Jupyter <a href='command:jupyter.viewOutput'>log</a> for further details."
     ]
    }
   ],
   "source": [
    "trainedModel = trainModel(model,train_loader,val_loader,optimiser,lr_scheduler1,loss_func,40)"
   ]
  }
 ],
 "metadata": {
  "kernelspec": {
   "display_name": "Python 3.8.13",
   "language": "python",
   "name": "python3"
  },
  "language_info": {
   "codemirror_mode": {
    "name": "ipython",
    "version": 3
   },
   "file_extension": ".py",
   "mimetype": "text/x-python",
   "name": "python",
   "nbconvert_exporter": "python",
   "pygments_lexer": "ipython3",
   "version": "3.8.13"
  },
  "orig_nbformat": 4,
  "vscode": {
   "interpreter": {
    "hash": "83bec4cd18966703d39e3fd8209371b7574445e5ac2dfe27a80cb33e9b531167"
   }
  }
 },
 "nbformat": 4,
 "nbformat_minor": 2
}
